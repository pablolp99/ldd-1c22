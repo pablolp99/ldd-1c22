{
  "nbformat": 4,
  "nbformat_minor": 0,
  "metadata": {
    "colab": {
      "name": "API_Twitter.ipynb",
      "provenance": [],
      "collapsed_sections": []
    },
    "kernelspec": {
      "display_name": "Python 3",
      "language": "python",
      "name": "python3"
    },
    "language_info": {
      "codemirror_mode": {
        "name": "ipython",
        "version": 3
      },
      "file_extension": ".py",
      "mimetype": "text/x-python",
      "name": "python",
      "nbconvert_exporter": "python",
      "pygments_lexer": "ipython3",
      "version": "3.8.3"
    }
  },
  "cells": [
    {
      "cell_type": "markdown",
      "metadata": {
        "id": "aUvw_FAgBznk"
      },
      "source": [
        "# Interacción con Twitter mediante API y tweepy\n"
      ]
    },
    {
      "cell_type": "markdown",
      "metadata": {
        "id": "fFa-vIzYB6he"
      },
      "source": [
        "La idea de esta notebook es dar algunos lineamientos sobre cómo utilizar la API de Twitter, mediante el paquete tweepy.\n",
        "\n",
        "Antes, es necesario hacer una aclaración: la API de Twitter involucra la utilización de claves para autenticar la sesión. Para esto, es necesario a partir de una cuenta de Twitter generar una cuenta desarrolladora. La cuenta puede generarse desde [esta](https://developer.twitter.com/en) página. La idea es responder ciertas preguntas para obtener el usuario, y una vez que nos lo den, debemos crear una aplicación y ahí generar las claves.\n",
        "\n",
        "Este proceso (sobre todo el de aceptación) puede demorar unos días. La posta es no poner palabras polémicas como bot o asociadas para que no nos lo nieguen. Poner que somos estudiantes suele ayudar."
      ]
    },
    {
      "cell_type": "code",
      "metadata": {
        "id": "0ybqY5Cn-FDg"
      },
      "source": [
        "from tweepy import OAuthHandler, StreamListener, Stream, API, Cursor # Métodos para autenticación, escucha en vivo y guardado, y cuestiones generales\n",
        "import time # Lo usamos para setear pausas en nuestro código\n",
        "import re # Lo usamos para regular expresion"
      ],
      "execution_count": null,
      "outputs": []
    },
    {
      "cell_type": "markdown",
      "metadata": {
        "id": "qg-VHmVaCQ4e"
      },
      "source": [
        "## Utilización de Clases"
      ]
    },
    {
      "cell_type": "markdown",
      "metadata": {
        "id": "Ns9Gir1wCVH-"
      },
      "source": [
        "En general, veremos en la web que muchos de los ejemplos de utilización de la API de Twitter en Python se basa en la creación de clases de objetos que implementen funciones y objetos propios de tweepy.\n",
        "\n",
        "En esta notebook, usamos dos sacados de [este](https://www.youtube.com/watch?v=wlnx-7cm4Gg) tutorial y uno (el primero) de elaboración propia (las diferencias saltan a la vista!).\n"
      ]
    },
    {
      "cell_type": "code",
      "metadata": {
        "id": "tI6vyKZK-FDl"
      },
      "source": [
        "class TwitterClosetTrends():\n",
        "    \"\"\"\n",
        "    Clase para la descarga de tendencias\n",
        "    Básicamente, tendremos dos métodos asociados a esta clase:\n",
        "      - get_lugaresDisponiblesParaLatLong : a partir de pasarle una ubicación, nos da información sobre qué lugares hay tendencias disponibles\n",
        "      - get_tendenciasCercanas : a p API de Twitter en Python se basa enartir de pasarle una ubicación (en formato woeid : ver documentación), nos devuelve las tendencias más recientes\n",
        "    Para ambos métodos, es necesario autenticarse con las claves de Twitter Developer\n",
        "\n",
        "    \"\"\"\n",
        "\n",
        "    def __init__(self):\n",
        "        self.api = API()\n",
        "        auth = OAuthHandler('l5oz7nv5kXzT8xHamlmzoiLAk',\n",
        "                            'fimz0i9La7sSQjmaFOmmTDLIh6yCIwMwFQTM7lFPEhCs5y5TF8') # Pasamos las api keys\n",
        "        \n",
        "        auth.set_access_token('1009444901703086080-4SCiPiUtrae9O2Rx9AzFGbcNSfUczn',\n",
        "                              'gIxZEXZeARXUptXcCz3R1X6MqxnM3l5Ot7NsT9kCeqWpu') # Pasamos las token keys\n",
        "        self.api.auth = auth\n",
        "        pass\n",
        "    \n",
        "    def get_lugaresDisponiblesParaLatLong(self, lat, long):\n",
        "        \"\"\"\n",
        "        Le pasamos lat, long, nos devuelve los lugares disponibles más cercanos\n",
        "        \"\"\"\n",
        "        \n",
        "        lugaresDisponibles = self.api.trends_closest(lat, long) # Usamos uno de los métodos de la api pa\n",
        "        \n",
        "        return lugaresDisponibles\n",
        "    \n",
        "    def get_tendenciasCercanas(self, woeid):\n",
        "        \"\"\"\n",
        "        Le pasamos el woeid de alguna ubicación y nos devuelve las tendencias cercanas\n",
        "        \"\"\"\n",
        "        tendencias_cercanas = self.api.trends_place(woeid) # Pedimos las tendencias cercanas\n",
        "        \n",
        "        return tendencias_cercanas\n",
        "\n",
        "\n",
        "class TwitterStreamer():\n",
        "    \"\"\"\n",
        "    Class for streaming and processing live tweets.\n",
        "    \"\"\"\n",
        "    def __init__(self):\n",
        "        pass\n",
        "\n",
        "    def stream_tweets(self, fetched_tweets_filename, hash_tag_list = '', languages = ['es'], follow = None):\n",
        "        # This handles Twitter authetification and the connection to Twitter Streaming API\n",
        "        listener = StdOutListener(fetched_tweets_filename)\n",
        "        auth = OAuthHandler('l5oz7nv5kXzT8xHamlmzoiLAk',\n",
        "                            'fimz0i9La7sSQjmaFOmmTDLIh6yCIwMwFQTM7lFPEhCs5y5TF8') # Pasamos las api keys\n",
        "        \n",
        "        auth.set_access_token('1009444901703086080-4SCiPiUtrae9O2Rx9AzFGbcNSfUczn',\n",
        "                              'gIxZEXZeARXUptXcCz3R1X6MqxnM3l5Ot7NsT9kCeqWpu') # Pasamos las token keys\n",
        "        \n",
        "        stream = Stream(auth, listener, tweet_mode = 'extended')\n",
        "        # This line filter Twitter Streams to capture data by the keywords: \n",
        "        if len(hash_tag_list) != 0:\n",
        "            stream.filter(languages = languages,\n",
        "                          track = hash_tag_list,\n",
        "                          follow = follow,\n",
        "                          )\n",
        "        else:\n",
        "            stream.sample(languages = languages,)\n",
        "class StdOutListener(StreamListener):\n",
        "    \"\"\"\n",
        "    Listener que guarda tweets en un archivo.\n",
        "    \"\"\"\n",
        "    def __init__(self, fetched_tweets_filename):\n",
        "        self.fetched_tweets_filename = fetched_tweets_filename\n",
        "\n",
        "    def on_data(self, data):\n",
        "        try:\n",
        "            with open(self.fetched_tweets_filename, 'a') as tf:\n",
        "                tf.write(data)\n",
        "            return True\n",
        "        except BaseException as e:\n",
        "            print(\"Error on_data %s\" % str(e))\n",
        "        return True\n",
        "    def on_error(self, status):\n",
        "        print(status)"
      ],
      "execution_count": null,
      "outputs": []
    },
    {
      "cell_type": "markdown",
      "metadata": {
        "id": "4Mj1MnDVDTY7"
      },
      "source": [
        "## Implementación de la Búsqueda de Tendencias"
      ]
    },
    {
      "cell_type": "markdown",
      "metadata": {
        "id": "q8zMkQGMDXpA"
      },
      "source": [
        "Brevemente, podemos usar la búsqueda de tendencias para saber qué es lo que más está resonando en Twitter, cercano a una determinada locación.\n",
        "\n",
        "Esto puede permitir alimentar una búsqueda en vivo, a partir de las querys que nos otorga las propias tendencias"
      ]
    },
    {
      "cell_type": "code",
      "metadata": {
        "colab": {
          "base_uri": "https://localhost:8080/"
        },
        "id": "TVqK3uYA-FDo",
        "outputId": "c39c854c-400d-48a9-c9d1-166b77f65704"
      },
      "source": [
        "trends = TwitterClosetTrends() # Inicializamos el objeto de tendencias\n",
        "lugar = trends.get_lugaresDisponiblesParaLatLong(lat = -34, long = -58) # Encontramos la (o las) ubicación más cercana al punto indicado con lat, long de la cual Twitter tiene datos\n",
        "tendencias = trends.get_tendenciasCercanas(lugar[0]['woeid']) # Pedimos las tendencias asociadas a alguno de los lugares obtenidos previamente. Según la documentación, no tiene sentido hacer esto con una frecue\n",
        "\n",
        "print('Las tendencias serán las cercanas a {}, {}'.format(lugar[0]['name'], lugar[0]['country']))\n",
        "print('Las primeras 5 tendencias son:',)\n",
        "print('\\n'.join([tendencias[0]['trends'][i]['name'] for i in range(20)]))"
      ],
      "execution_count": null,
      "outputs": [
        {
          "output_type": "stream",
          "name": "stdout",
          "text": [
            "Las tendencias serán las cercanas a Buenos Aires, Argentina\n",
            "Las primeras 5 tendencias son:\n",
            "#EDLP\n",
            "Coldplay\n",
            "Texas\n",
            "Coccaro\n",
            "#Huracan\n",
            "deportivo madryn\n",
            "Acevedo\n",
            "#ElVasoDeQuilmes\n",
            "#eltrennosune\n",
            "Nandez\n",
            "#CopaArgentina\n",
            "Yatra\n",
            "Pozzo\n",
            "De Paul\n",
            "Better Call Saul\n",
            "Toranzo\n",
            "Cabrera\n",
            "Hamburguesa o Pizza\n",
            "chris martin\n",
            "Dabove\n"
          ]
        }
      ]
    },
    {
      "cell_type": "code",
      "metadata": {
        "colab": {
          "base_uri": "https://localhost:8080/"
        },
        "id": "a6ORbLkp_XpO",
        "outputId": "d1d804a8-75f7-4fe0-e0d2-ec7c1a953eae"
      },
      "source": [
        "[tendencias[0]['trends']]"
      ],
      "execution_count": null,
      "outputs": [
        {
          "output_type": "execute_result",
          "data": {
            "text/plain": [
              "[{'name': '#EDLP',\n",
              "  'promoted_content': None,\n",
              "  'query': '%23EDLP',\n",
              "  'tweet_volume': None,\n",
              "  'url': 'http://twitter.com/search?q=%23EDLP'},\n",
              " {'name': 'Coldplay',\n",
              "  'promoted_content': None,\n",
              "  'query': 'Coldplay',\n",
              "  'tweet_volume': 41253,\n",
              "  'url': 'http://twitter.com/search?q=Coldplay'},\n",
              " {'name': 'Texas',\n",
              "  'promoted_content': None,\n",
              "  'query': 'Texas',\n",
              "  'tweet_volume': 535095,\n",
              "  'url': 'http://twitter.com/search?q=Texas'},\n",
              " {'name': 'Coccaro',\n",
              "  'promoted_content': None,\n",
              "  'query': 'Coccaro',\n",
              "  'tweet_volume': None,\n",
              "  'url': 'http://twitter.com/search?q=Coccaro'},\n",
              " {'name': '#Huracan',\n",
              "  'promoted_content': None,\n",
              "  'query': '%23Huracan',\n",
              "  'tweet_volume': None,\n",
              "  'url': 'http://twitter.com/search?q=%23Huracan'},\n",
              " {'name': 'deportivo madryn',\n",
              "  'promoted_content': None,\n",
              "  'query': '%22deportivo+madryn%22',\n",
              "  'tweet_volume': None,\n",
              "  'url': 'http://twitter.com/search?q=%22deportivo+madryn%22'},\n",
              " {'name': 'Acevedo',\n",
              "  'promoted_content': None,\n",
              "  'query': 'Acevedo',\n",
              "  'tweet_volume': None,\n",
              "  'url': 'http://twitter.com/search?q=Acevedo'},\n",
              " {'name': '#ElVasoDeQuilmes',\n",
              "  'promoted_content': None,\n",
              "  'query': '%23ElVasoDeQuilmes',\n",
              "  'tweet_volume': None,\n",
              "  'url': 'http://twitter.com/search?q=%23ElVasoDeQuilmes'},\n",
              " {'name': '#eltrennosune',\n",
              "  'promoted_content': None,\n",
              "  'query': '%23eltrennosune',\n",
              "  'tweet_volume': None,\n",
              "  'url': 'http://twitter.com/search?q=%23eltrennosune'},\n",
              " {'name': 'Nandez',\n",
              "  'promoted_content': None,\n",
              "  'query': 'Nandez',\n",
              "  'tweet_volume': None,\n",
              "  'url': 'http://twitter.com/search?q=Nandez'},\n",
              " {'name': '#CopaArgentina',\n",
              "  'promoted_content': None,\n",
              "  'query': '%23CopaArgentina',\n",
              "  'tweet_volume': None,\n",
              "  'url': 'http://twitter.com/search?q=%23CopaArgentina'},\n",
              " {'name': 'Yatra',\n",
              "  'promoted_content': None,\n",
              "  'query': 'Yatra',\n",
              "  'tweet_volume': 12019,\n",
              "  'url': 'http://twitter.com/search?q=Yatra'},\n",
              " {'name': 'Pozzo',\n",
              "  'promoted_content': None,\n",
              "  'query': 'Pozzo',\n",
              "  'tweet_volume': None,\n",
              "  'url': 'http://twitter.com/search?q=Pozzo'},\n",
              " {'name': 'De Paul',\n",
              "  'promoted_content': None,\n",
              "  'query': '%22De+Paul%22',\n",
              "  'tweet_volume': 13953,\n",
              "  'url': 'http://twitter.com/search?q=%22De+Paul%22'},\n",
              " {'name': 'Better Call Saul',\n",
              "  'promoted_content': None,\n",
              "  'query': '%22Better+Call+Saul%22',\n",
              "  'tweet_volume': 24741,\n",
              "  'url': 'http://twitter.com/search?q=%22Better+Call+Saul%22'},\n",
              " {'name': 'Toranzo',\n",
              "  'promoted_content': None,\n",
              "  'query': 'Toranzo',\n",
              "  'tweet_volume': None,\n",
              "  'url': 'http://twitter.com/search?q=Toranzo'},\n",
              " {'name': 'Cabrera',\n",
              "  'promoted_content': None,\n",
              "  'query': 'Cabrera',\n",
              "  'tweet_volume': None,\n",
              "  'url': 'http://twitter.com/search?q=Cabrera'},\n",
              " {'name': 'Hamburguesa o Pizza',\n",
              "  'promoted_content': None,\n",
              "  'query': '%22Hamburguesa+o+Pizza%22',\n",
              "  'tweet_volume': None,\n",
              "  'url': 'http://twitter.com/search?q=%22Hamburguesa+o+Pizza%22'},\n",
              " {'name': 'chris martin',\n",
              "  'promoted_content': None,\n",
              "  'query': '%22chris+martin%22',\n",
              "  'tweet_volume': None,\n",
              "  'url': 'http://twitter.com/search?q=%22chris+martin%22'},\n",
              " {'name': 'Dabove',\n",
              "  'promoted_content': None,\n",
              "  'query': 'Dabove',\n",
              "  'tweet_volume': None,\n",
              "  'url': 'http://twitter.com/search?q=Dabove'},\n",
              " {'name': 'Berni',\n",
              "  'promoted_content': None,\n",
              "  'query': 'Berni',\n",
              "  'tweet_volume': None,\n",
              "  'url': 'http://twitter.com/search?q=Berni'},\n",
              " {'name': 'Hunter x Hunter',\n",
              "  'promoted_content': None,\n",
              "  'query': '%22Hunter+x+Hunter%22',\n",
              "  'tweet_volume': 213143,\n",
              "  'url': 'http://twitter.com/search?q=%22Hunter+x+Hunter%22'},\n",
              " {'name': 'Susana Giménez',\n",
              "  'promoted_content': None,\n",
              "  'query': '%22Susana+Gim%C3%A9nez%22',\n",
              "  'tweet_volume': None,\n",
              "  'url': 'http://twitter.com/search?q=%22Susana+Gim%C3%A9nez%22'},\n",
              " {'name': 'Moreno',\n",
              "  'promoted_content': None,\n",
              "  'query': 'Moreno',\n",
              "  'tweet_volume': 61784,\n",
              "  'url': 'http://twitter.com/search?q=Moreno'},\n",
              " {'name': 'WE LOVE YOU JIMIN',\n",
              "  'promoted_content': None,\n",
              "  'query': '%22WE+LOVE+YOU+JIMIN%22',\n",
              "  'tweet_volume': 184332,\n",
              "  'url': 'http://twitter.com/search?q=%22WE+LOVE+YOU+JIMIN%22'},\n",
              " {'name': 'Ibarra',\n",
              "  'promoted_content': None,\n",
              "  'query': 'Ibarra',\n",
              "  'tweet_volume': None,\n",
              "  'url': 'http://twitter.com/search?q=Ibarra'},\n",
              " {'name': 'Figal',\n",
              "  'promoted_content': None,\n",
              "  'query': 'Figal',\n",
              "  'tweet_volume': None,\n",
              "  'url': 'http://twitter.com/search?q=Figal'},\n",
              " {'name': 'Cetto',\n",
              "  'promoted_content': None,\n",
              "  'query': 'Cetto',\n",
              "  'tweet_volume': None,\n",
              "  'url': 'http://twitter.com/search?q=Cetto'},\n",
              " {'name': 'Ramirez',\n",
              "  'promoted_content': None,\n",
              "  'query': 'Ramirez',\n",
              "  'tweet_volume': 23133,\n",
              "  'url': 'http://twitter.com/search?q=Ramirez'},\n",
              " {'name': 'WE LOVE YOU JUNGKOOK',\n",
              "  'promoted_content': None,\n",
              "  'query': '%22WE+LOVE+YOU+JUNGKOOK%22',\n",
              "  'tweet_volume': 231388,\n",
              "  'url': 'http://twitter.com/search?q=%22WE+LOVE+YOU+JUNGKOOK%22'},\n",
              " {'name': 'Togashi',\n",
              "  'promoted_content': None,\n",
              "  'query': 'Togashi',\n",
              "  'tweet_volume': 96069,\n",
              "  'url': 'http://twitter.com/search?q=Togashi'},\n",
              " {'name': 'WE LOVE YOU KIM TAEHYUNG',\n",
              "  'promoted_content': None,\n",
              "  'query': '%22WE+LOVE+YOU+KIM+TAEHYUNG%22',\n",
              "  'tweet_volume': 121322,\n",
              "  'url': 'http://twitter.com/search?q=%22WE+LOVE+YOU+KIM+TAEHYUNG%22'},\n",
              " {'name': 'Francia',\n",
              "  'promoted_content': None,\n",
              "  'query': 'Francia',\n",
              "  'tweet_volume': 46533,\n",
              "  'url': 'http://twitter.com/search?q=Francia'},\n",
              " {'name': 'Bolivia',\n",
              "  'promoted_content': None,\n",
              "  'query': 'Bolivia',\n",
              "  'tweet_volume': 29333,\n",
              "  'url': 'http://twitter.com/search?q=Bolivia'},\n",
              " {'name': 'Kurapika',\n",
              "  'promoted_content': None,\n",
              "  'query': 'Kurapika',\n",
              "  'tweet_volume': 13300,\n",
              "  'url': 'http://twitter.com/search?q=Kurapika'},\n",
              " {'name': 'Moderna',\n",
              "  'promoted_content': None,\n",
              "  'query': 'Moderna',\n",
              "  'tweet_volume': 33057,\n",
              "  'url': 'http://twitter.com/search?q=Moderna'},\n",
              " {'name': 'Roger Waters',\n",
              "  'promoted_content': None,\n",
              "  'query': '%22Roger+Waters%22',\n",
              "  'tweet_volume': None,\n",
              "  'url': 'http://twitter.com/search?q=%22Roger+Waters%22'},\n",
              " {'name': 'Florencio Varela',\n",
              "  'promoted_content': None,\n",
              "  'query': '%22Florencio+Varela%22',\n",
              "  'tweet_volume': None,\n",
              "  'url': 'http://twitter.com/search?q=%22Florencio+Varela%22'},\n",
              " {'name': 'Sudamérica',\n",
              "  'promoted_content': None,\n",
              "  'query': 'Sudam%C3%A9rica',\n",
              "  'tweet_volume': None,\n",
              "  'url': 'http://twitter.com/search?q=Sudam%C3%A9rica'},\n",
              " {'name': 'Vuelve HxH',\n",
              "  'promoted_content': None,\n",
              "  'query': '%22Vuelve+HxH%22',\n",
              "  'tweet_volume': None,\n",
              "  'url': 'http://twitter.com/search?q=%22Vuelve+HxH%22'},\n",
              " {'name': 'Lollo',\n",
              "  'promoted_content': None,\n",
              "  'query': 'Lollo',\n",
              "  'tweet_volume': None,\n",
              "  'url': 'http://twitter.com/search?q=Lollo'},\n",
              " {'name': 'Benzema',\n",
              "  'promoted_content': None,\n",
              "  'query': 'Benzema',\n",
              "  'tweet_volume': 102593,\n",
              "  'url': 'http://twitter.com/search?q=Benzema'},\n",
              " {'name': 'Aerolíneas',\n",
              "  'promoted_content': None,\n",
              "  'query': 'Aerol%C3%ADneas',\n",
              "  'tweet_volume': None,\n",
              "  'url': 'http://twitter.com/search?q=Aerol%C3%ADneas'},\n",
              " {'name': 'VIVA LA PATRIA',\n",
              "  'promoted_content': None,\n",
              "  'query': '%22VIVA+LA+PATRIA%22',\n",
              "  'tweet_volume': None,\n",
              "  'url': 'http://twitter.com/search?q=%22VIVA+LA+PATRIA%22'},\n",
              " {'name': 'Revolución de Mayo',\n",
              "  'promoted_content': None,\n",
              "  'query': '%22Revoluci%C3%B3n+de+Mayo%22',\n",
              "  'tweet_volume': None,\n",
              "  'url': 'http://twitter.com/search?q=%22Revoluci%C3%B3n+de+Mayo%22'},\n",
              " {'name': 'Deportivo Cali',\n",
              "  'promoted_content': None,\n",
              "  'query': '%22Deportivo+Cali%22',\n",
              "  'tweet_volume': None,\n",
              "  'url': 'http://twitter.com/search?q=%22Deportivo+Cali%22'},\n",
              " {'name': 'Argentina y Brasil',\n",
              "  'promoted_content': None,\n",
              "  'query': '%22Argentina+y+Brasil%22',\n",
              "  'tweet_volume': None,\n",
              "  'url': 'http://twitter.com/search?q=%22Argentina+y+Brasil%22'},\n",
              " {'name': 'Locro',\n",
              "  'promoted_content': None,\n",
              "  'query': 'Locro',\n",
              "  'tweet_volume': None,\n",
              "  'url': 'http://twitter.com/search?q=Locro'},\n",
              " {'name': 'Zeus',\n",
              "  'promoted_content': None,\n",
              "  'query': 'Zeus',\n",
              "  'tweet_volume': 50143,\n",
              "  'url': 'http://twitter.com/search?q=Zeus'},\n",
              " {'name': 'Corte Suprema',\n",
              "  'promoted_content': None,\n",
              "  'query': '%22Corte+Suprema%22',\n",
              "  'tweet_volume': None,\n",
              "  'url': 'http://twitter.com/search?q=%22Corte+Suprema%22'}]"
            ]
          },
          "metadata": {},
          "execution_count": 16
        }
      ]
    },
    {
      "cell_type": "markdown",
      "metadata": {
        "id": "QfPkHR52Ec-c"
      },
      "source": [
        "### Caso de Uso Particular: Búsqueda de Tendencias para disparar Alertas\n"
      ]
    },
    {
      "cell_type": "markdown",
      "metadata": {
        "id": "Do8yYTUtEiGR"
      },
      "source": [
        "Imaginemos que queremos armar un robot que \"escuche\" las tendencias de Twitter, asociadas a un determinado lugar, y nos dispare algún tipo de alerta (en este caso, sólo printeará, pero podría mandarnos un mail o lo que sea) cuando alguna tendencia matchee con alguna/s palabra/s que definamos previamente"
      ]
    },
    {
      "cell_type": "code",
      "metadata": {
        "id": "ChcnUlOv-FDq"
      },
      "source": [
        "def alerta_tendencias(lat, long, strings_alerta = ['vacunas'], cantidad_repeticiones = 1000, funcion = print):\n",
        "    \n",
        "    for i in range(cantidad_repeticiones): # Hacemos esto la cantidad de veces que definamos\n",
        "        busqueda_tendencias = TwitterClosetTrends() # Inicializamos el objeto de busqueda de tendencias\n",
        "        lugar = busqueda_tendencias.get_lugaresDisponiblesParaLatLong(lat = lat, long = long) # Obtenemos los lugares\n",
        "        tendencias = [busqueda_tendencias.get_tendenciasCercanas(lugar[i]['woeid'])[0] for i in range(len(lugar))] # Obtenemos las tendencias. \n",
        "\n",
        "        for t in tendencias:\n",
        "            t = t['trends']\n",
        "            for trend in t:\n",
        "                for string in strings_alerta:\n",
        "                    if re.match('.*{}.*'.format(string.lower()), trend['name'].lower()) != None: # Criterio de matcheo de las strings de alerta y las tendencias encontradas\n",
        "                        funcion(trend['name']) # Pedimos que ejecute la función que querramos en función de lo que estemos queriendo hacer\n",
        "        if cantidad_repeticiones != 1:            \n",
        "            time.sleep(60 * 5) # Le decimos que espere 5 minutos. Twitter actualiza la info cada 5 mins, así que no tendría sentido pedirle cada menos\n",
        "\n",
        "# Esta es la función que pedimos que se active, pero podría ser otra tranquilamente\n",
        "def print_alerta(t):\n",
        "    print('Alerta! Hubo un match con: {}'.format(t))\n",
        "             "
      ],
      "execution_count": null,
      "outputs": []
    },
    {
      "cell_type": "code",
      "metadata": {
        "id": "Ik2zBl_J-FDr",
        "colab": {
          "base_uri": "https://localhost:8080/"
        },
        "outputId": "14466e1d-aa79-47c1-e148-522b6e96d544"
      },
      "source": [
        "alerta_tendencias(lat = -34, long = -58, strings_alerta = ['Coldplay','Revolución de Mayo'],cantidad_repeticiones = 1, funcion = print_alerta)"
      ],
      "execution_count": null,
      "outputs": [
        {
          "output_type": "stream",
          "name": "stdout",
          "text": [
            "Alerta! Hubo un match con: Coldplay\n",
            "Alerta! Hubo un match con: Revolución de Mayo\n"
          ]
        }
      ]
    },
    {
      "cell_type": "markdown",
      "metadata": {
        "id": "K1b7YihSG3CZ"
      },
      "source": [
        "## Implementación de la Búsqueda en Vivo"
      ]
    },
    {
      "cell_type": "markdown",
      "metadata": {
        "id": "9Z8kPE9dG5rW"
      },
      "source": [
        "Veamos cómo se implementa la búsqueda de tweets en vivo:"
      ]
    },
    {
      "cell_type": "code",
      "metadata": {
        "id": "D5Wqr16wLwLh",
        "colab": {
          "base_uri": "https://localhost:8080/",
          "height": 347
        },
        "outputId": "fa0f2665-c86d-4f49-90bd-8c4309ec2303"
      },
      "source": [
        "busqueda = TwitterStreamer() # Inicializamos el objeto\n",
        "palabras = ['feletti'] # Definimos las palabras claves para filtrar\n",
        "idioma = ['es'] # Definimos el idioma \n",
        "archivo = 'prueba.txt' # Definimos el nombre del archivo en el cual se descargan los datos\n",
        "\n",
        "# Inicializamos la búsqueda mediante el método stream_tweets\n",
        "\n",
        "busqueda.stream_tweets(archivo, \n",
        "                       palabras,\n",
        "                       idioma,)"
      ],
      "execution_count": null,
      "outputs": [
        {
          "output_type": "error",
          "ename": "KeyboardInterrupt",
          "evalue": "ignored",
          "traceback": [
            "\u001b[0;31m---------------------------------------------------------------------------\u001b[0m",
            "\u001b[0;31mKeyboardInterrupt\u001b[0m                         Traceback (most recent call last)",
            "\u001b[0;32m<ipython-input-24-4dbfcd671b6d>\u001b[0m in \u001b[0;36m<module>\u001b[0;34m()\u001b[0m\n\u001b[1;32m      8\u001b[0m busqueda.stream_tweets(archivo, \n\u001b[1;32m      9\u001b[0m                        \u001b[0mpalabras\u001b[0m\u001b[0;34m,\u001b[0m\u001b[0;34m\u001b[0m\u001b[0;34m\u001b[0m\u001b[0m\n\u001b[0;32m---> 10\u001b[0;31m                        idioma,)\n\u001b[0m",
            "\u001b[0;32m<ipython-input-3-eeab49186b48>\u001b[0m in \u001b[0;36mstream_tweets\u001b[0;34m(self, fetched_tweets_filename, hash_tag_list, languages, follow)\u001b[0m\n\u001b[1;32m     58\u001b[0m             stream.filter(languages = languages,\n\u001b[1;32m     59\u001b[0m                           \u001b[0mtrack\u001b[0m \u001b[0;34m=\u001b[0m \u001b[0mhash_tag_list\u001b[0m\u001b[0;34m,\u001b[0m\u001b[0;34m\u001b[0m\u001b[0;34m\u001b[0m\u001b[0m\n\u001b[0;32m---> 60\u001b[0;31m                           \u001b[0mfollow\u001b[0m \u001b[0;34m=\u001b[0m \u001b[0mfollow\u001b[0m\u001b[0;34m,\u001b[0m\u001b[0;34m\u001b[0m\u001b[0;34m\u001b[0m\u001b[0m\n\u001b[0m\u001b[1;32m     61\u001b[0m                           )\n\u001b[1;32m     62\u001b[0m         \u001b[0;32melse\u001b[0m\u001b[0;34m:\u001b[0m\u001b[0;34m\u001b[0m\u001b[0;34m\u001b[0m\u001b[0m\n",
            "\u001b[0;32m/usr/local/lib/python3.7/dist-packages/tweepy/streaming.py\u001b[0m in \u001b[0;36mfilter\u001b[0;34m(self, follow, track, is_async, locations, stall_warnings, languages, encoding, filter_level)\u001b[0m\n\u001b[1;32m    472\u001b[0m             \u001b[0mself\u001b[0m\u001b[0;34m.\u001b[0m\u001b[0mbody\u001b[0m\u001b[0;34m[\u001b[0m\u001b[0;34m'filter_level'\u001b[0m\u001b[0;34m]\u001b[0m \u001b[0;34m=\u001b[0m \u001b[0mfilter_level\u001b[0m\u001b[0;34m.\u001b[0m\u001b[0mencode\u001b[0m\u001b[0;34m(\u001b[0m\u001b[0mencoding\u001b[0m\u001b[0;34m)\u001b[0m\u001b[0;34m\u001b[0m\u001b[0;34m\u001b[0m\u001b[0m\n\u001b[1;32m    473\u001b[0m         \u001b[0mself\u001b[0m\u001b[0;34m.\u001b[0m\u001b[0msession\u001b[0m\u001b[0;34m.\u001b[0m\u001b[0mparams\u001b[0m \u001b[0;34m=\u001b[0m \u001b[0;34m{\u001b[0m\u001b[0;34m'delimited'\u001b[0m\u001b[0;34m:\u001b[0m \u001b[0;34m'length'\u001b[0m\u001b[0;34m}\u001b[0m\u001b[0;34m\u001b[0m\u001b[0;34m\u001b[0m\u001b[0m\n\u001b[0;32m--> 474\u001b[0;31m         \u001b[0mself\u001b[0m\u001b[0;34m.\u001b[0m\u001b[0m_start\u001b[0m\u001b[0;34m(\u001b[0m\u001b[0mis_async\u001b[0m\u001b[0;34m)\u001b[0m\u001b[0;34m\u001b[0m\u001b[0;34m\u001b[0m\u001b[0m\n\u001b[0m\u001b[1;32m    475\u001b[0m \u001b[0;34m\u001b[0m\u001b[0m\n\u001b[1;32m    476\u001b[0m     def sitestream(self, follow, stall_warnings=False,\n",
            "\u001b[0;32m/usr/local/lib/python3.7/dist-packages/tweepy/streaming.py\u001b[0m in \u001b[0;36m_start\u001b[0;34m(self, is_async)\u001b[0m\n\u001b[1;32m    387\u001b[0m             \u001b[0mself\u001b[0m\u001b[0;34m.\u001b[0m\u001b[0m_thread\u001b[0m\u001b[0;34m.\u001b[0m\u001b[0mstart\u001b[0m\u001b[0;34m(\u001b[0m\u001b[0;34m)\u001b[0m\u001b[0;34m\u001b[0m\u001b[0;34m\u001b[0m\u001b[0m\n\u001b[1;32m    388\u001b[0m         \u001b[0;32melse\u001b[0m\u001b[0;34m:\u001b[0m\u001b[0;34m\u001b[0m\u001b[0;34m\u001b[0m\u001b[0m\n\u001b[0;32m--> 389\u001b[0;31m             \u001b[0mself\u001b[0m\u001b[0;34m.\u001b[0m\u001b[0m_run\u001b[0m\u001b[0;34m(\u001b[0m\u001b[0;34m)\u001b[0m\u001b[0;34m\u001b[0m\u001b[0;34m\u001b[0m\u001b[0m\n\u001b[0m\u001b[1;32m    390\u001b[0m \u001b[0;34m\u001b[0m\u001b[0m\n\u001b[1;32m    391\u001b[0m     \u001b[0;32mdef\u001b[0m \u001b[0mon_closed\u001b[0m\u001b[0;34m(\u001b[0m\u001b[0mself\u001b[0m\u001b[0;34m,\u001b[0m \u001b[0mresp\u001b[0m\u001b[0;34m)\u001b[0m\u001b[0;34m:\u001b[0m\u001b[0;34m\u001b[0m\u001b[0;34m\u001b[0m\u001b[0m\n",
            "\u001b[0;32m/usr/local/lib/python3.7/dist-packages/tweepy/streaming.py\u001b[0m in \u001b[0;36m_run\u001b[0;34m(self)\u001b[0m\n\u001b[1;32m    287\u001b[0m                     \u001b[0mself\u001b[0m\u001b[0;34m.\u001b[0m\u001b[0msnooze_time\u001b[0m \u001b[0;34m=\u001b[0m \u001b[0mself\u001b[0m\u001b[0;34m.\u001b[0m\u001b[0msnooze_time_step\u001b[0m\u001b[0;34m\u001b[0m\u001b[0;34m\u001b[0m\u001b[0m\n\u001b[1;32m    288\u001b[0m                     \u001b[0mself\u001b[0m\u001b[0;34m.\u001b[0m\u001b[0mlistener\u001b[0m\u001b[0;34m.\u001b[0m\u001b[0mon_connect\u001b[0m\u001b[0;34m(\u001b[0m\u001b[0;34m)\u001b[0m\u001b[0;34m\u001b[0m\u001b[0;34m\u001b[0m\u001b[0m\n\u001b[0;32m--> 289\u001b[0;31m                     \u001b[0mself\u001b[0m\u001b[0;34m.\u001b[0m\u001b[0m_read_loop\u001b[0m\u001b[0;34m(\u001b[0m\u001b[0mresp\u001b[0m\u001b[0;34m)\u001b[0m\u001b[0;34m\u001b[0m\u001b[0;34m\u001b[0m\u001b[0m\n\u001b[0m\u001b[1;32m    290\u001b[0m             \u001b[0;32mexcept\u001b[0m \u001b[0;34m(\u001b[0m\u001b[0mTimeout\u001b[0m\u001b[0;34m,\u001b[0m \u001b[0mssl\u001b[0m\u001b[0;34m.\u001b[0m\u001b[0mSSLError\u001b[0m\u001b[0;34m)\u001b[0m \u001b[0;32mas\u001b[0m \u001b[0mexc\u001b[0m\u001b[0;34m:\u001b[0m\u001b[0;34m\u001b[0m\u001b[0;34m\u001b[0m\u001b[0m\n\u001b[1;32m    291\u001b[0m                 \u001b[0;31m# This is still necessary, as a SSLError can actually be\u001b[0m\u001b[0;34m\u001b[0m\u001b[0;34m\u001b[0m\u001b[0;34m\u001b[0m\u001b[0m\n",
            "\u001b[0;32m/usr/local/lib/python3.7/dist-packages/tweepy/streaming.py\u001b[0m in \u001b[0;36m_read_loop\u001b[0;34m(self, resp)\u001b[0m\n\u001b[1;32m    337\u001b[0m             \u001b[0mlength\u001b[0m \u001b[0;34m=\u001b[0m \u001b[0;36m0\u001b[0m\u001b[0;34m\u001b[0m\u001b[0;34m\u001b[0m\u001b[0m\n\u001b[1;32m    338\u001b[0m             \u001b[0;32mwhile\u001b[0m \u001b[0;32mnot\u001b[0m \u001b[0mresp\u001b[0m\u001b[0;34m.\u001b[0m\u001b[0mraw\u001b[0m\u001b[0;34m.\u001b[0m\u001b[0mclosed\u001b[0m\u001b[0;34m:\u001b[0m\u001b[0;34m\u001b[0m\u001b[0;34m\u001b[0m\u001b[0m\n\u001b[0;32m--> 339\u001b[0;31m                 \u001b[0mline\u001b[0m \u001b[0;34m=\u001b[0m \u001b[0mbuf\u001b[0m\u001b[0;34m.\u001b[0m\u001b[0mread_line\u001b[0m\u001b[0;34m(\u001b[0m\u001b[0;34m)\u001b[0m\u001b[0;34m\u001b[0m\u001b[0;34m\u001b[0m\u001b[0m\n\u001b[0m\u001b[1;32m    340\u001b[0m                 \u001b[0mstripped_line\u001b[0m \u001b[0;34m=\u001b[0m \u001b[0mline\u001b[0m\u001b[0;34m.\u001b[0m\u001b[0mstrip\u001b[0m\u001b[0;34m(\u001b[0m\u001b[0;34m)\u001b[0m \u001b[0;32mif\u001b[0m \u001b[0mline\u001b[0m \u001b[0;32melse\u001b[0m \u001b[0mline\u001b[0m \u001b[0;31m# line is sometimes None so we need to check here\u001b[0m\u001b[0;34m\u001b[0m\u001b[0;34m\u001b[0m\u001b[0m\n\u001b[1;32m    341\u001b[0m                 \u001b[0;32mif\u001b[0m \u001b[0;32mnot\u001b[0m \u001b[0mstripped_line\u001b[0m\u001b[0;34m:\u001b[0m\u001b[0;34m\u001b[0m\u001b[0;34m\u001b[0m\u001b[0m\n",
            "\u001b[0;32m/usr/local/lib/python3.7/dist-packages/tweepy/streaming.py\u001b[0m in \u001b[0;36mread_line\u001b[0;34m(self, sep)\u001b[0m\n\u001b[1;32m    198\u001b[0m             \u001b[0;32melse\u001b[0m\u001b[0;34m:\u001b[0m\u001b[0;34m\u001b[0m\u001b[0;34m\u001b[0m\u001b[0m\n\u001b[1;32m    199\u001b[0m                 \u001b[0mstart\u001b[0m \u001b[0;34m=\u001b[0m \u001b[0mlen\u001b[0m\u001b[0;34m(\u001b[0m\u001b[0mself\u001b[0m\u001b[0;34m.\u001b[0m\u001b[0m_buffer\u001b[0m\u001b[0;34m)\u001b[0m\u001b[0;34m\u001b[0m\u001b[0;34m\u001b[0m\u001b[0m\n\u001b[0;32m--> 200\u001b[0;31m             \u001b[0mself\u001b[0m\u001b[0;34m.\u001b[0m\u001b[0m_buffer\u001b[0m \u001b[0;34m+=\u001b[0m \u001b[0mself\u001b[0m\u001b[0;34m.\u001b[0m\u001b[0m_stream\u001b[0m\u001b[0;34m.\u001b[0m\u001b[0mread\u001b[0m\u001b[0;34m(\u001b[0m\u001b[0mself\u001b[0m\u001b[0;34m.\u001b[0m\u001b[0m_chunk_size\u001b[0m\u001b[0;34m)\u001b[0m\u001b[0;34m\u001b[0m\u001b[0;34m\u001b[0m\u001b[0m\n\u001b[0m\u001b[1;32m    201\u001b[0m         \u001b[0;32mreturn\u001b[0m \u001b[0msix\u001b[0m\u001b[0;34m.\u001b[0m\u001b[0mb\u001b[0m\u001b[0;34m(\u001b[0m\u001b[0;34m''\u001b[0m\u001b[0;34m)\u001b[0m\u001b[0;34m\u001b[0m\u001b[0;34m\u001b[0m\u001b[0m\n\u001b[1;32m    202\u001b[0m \u001b[0;34m\u001b[0m\u001b[0m\n",
            "\u001b[0;32m/usr/local/lib/python3.7/dist-packages/urllib3/response.py\u001b[0m in \u001b[0;36mread\u001b[0;34m(self, amt, decode_content, cache_content)\u001b[0m\n\u001b[1;32m    442\u001b[0m             \u001b[0;32melse\u001b[0m\u001b[0;34m:\u001b[0m\u001b[0;34m\u001b[0m\u001b[0;34m\u001b[0m\u001b[0m\n\u001b[1;32m    443\u001b[0m                 \u001b[0mcache_content\u001b[0m \u001b[0;34m=\u001b[0m \u001b[0;32mFalse\u001b[0m\u001b[0;34m\u001b[0m\u001b[0;34m\u001b[0m\u001b[0m\n\u001b[0;32m--> 444\u001b[0;31m                 \u001b[0mdata\u001b[0m \u001b[0;34m=\u001b[0m \u001b[0mself\u001b[0m\u001b[0;34m.\u001b[0m\u001b[0m_fp\u001b[0m\u001b[0;34m.\u001b[0m\u001b[0mread\u001b[0m\u001b[0;34m(\u001b[0m\u001b[0mamt\u001b[0m\u001b[0;34m)\u001b[0m\u001b[0;34m\u001b[0m\u001b[0;34m\u001b[0m\u001b[0m\n\u001b[0m\u001b[1;32m    445\u001b[0m                 \u001b[0;32mif\u001b[0m \u001b[0mamt\u001b[0m \u001b[0;34m!=\u001b[0m \u001b[0;36m0\u001b[0m \u001b[0;32mand\u001b[0m \u001b[0;32mnot\u001b[0m \u001b[0mdata\u001b[0m\u001b[0;34m:\u001b[0m  \u001b[0;31m# Platform-specific: Buggy versions of Python.\u001b[0m\u001b[0;34m\u001b[0m\u001b[0;34m\u001b[0m\u001b[0m\n\u001b[1;32m    446\u001b[0m                     \u001b[0;31m# Close the connection when no data is returned\u001b[0m\u001b[0;34m\u001b[0m\u001b[0;34m\u001b[0m\u001b[0;34m\u001b[0m\u001b[0m\n",
            "\u001b[0;32m/usr/lib/python3.7/http/client.py\u001b[0m in \u001b[0;36mread\u001b[0;34m(self, amt)\u001b[0m\n\u001b[1;32m    463\u001b[0m             \u001b[0;31m# Amount is given, implement using readinto\u001b[0m\u001b[0;34m\u001b[0m\u001b[0;34m\u001b[0m\u001b[0;34m\u001b[0m\u001b[0m\n\u001b[1;32m    464\u001b[0m             \u001b[0mb\u001b[0m \u001b[0;34m=\u001b[0m \u001b[0mbytearray\u001b[0m\u001b[0;34m(\u001b[0m\u001b[0mamt\u001b[0m\u001b[0;34m)\u001b[0m\u001b[0;34m\u001b[0m\u001b[0;34m\u001b[0m\u001b[0m\n\u001b[0;32m--> 465\u001b[0;31m             \u001b[0mn\u001b[0m \u001b[0;34m=\u001b[0m \u001b[0mself\u001b[0m\u001b[0;34m.\u001b[0m\u001b[0mreadinto\u001b[0m\u001b[0;34m(\u001b[0m\u001b[0mb\u001b[0m\u001b[0;34m)\u001b[0m\u001b[0;34m\u001b[0m\u001b[0;34m\u001b[0m\u001b[0m\n\u001b[0m\u001b[1;32m    466\u001b[0m             \u001b[0;32mreturn\u001b[0m \u001b[0mmemoryview\u001b[0m\u001b[0;34m(\u001b[0m\u001b[0mb\u001b[0m\u001b[0;34m)\u001b[0m\u001b[0;34m[\u001b[0m\u001b[0;34m:\u001b[0m\u001b[0mn\u001b[0m\u001b[0;34m]\u001b[0m\u001b[0;34m.\u001b[0m\u001b[0mtobytes\u001b[0m\u001b[0;34m(\u001b[0m\u001b[0;34m)\u001b[0m\u001b[0;34m\u001b[0m\u001b[0;34m\u001b[0m\u001b[0m\n\u001b[1;32m    467\u001b[0m         \u001b[0;32melse\u001b[0m\u001b[0;34m:\u001b[0m\u001b[0;34m\u001b[0m\u001b[0;34m\u001b[0m\u001b[0m\n",
            "\u001b[0;32m/usr/lib/python3.7/http/client.py\u001b[0m in \u001b[0;36mreadinto\u001b[0;34m(self, b)\u001b[0m\n\u001b[1;32m    497\u001b[0m \u001b[0;34m\u001b[0m\u001b[0m\n\u001b[1;32m    498\u001b[0m         \u001b[0;32mif\u001b[0m \u001b[0mself\u001b[0m\u001b[0;34m.\u001b[0m\u001b[0mchunked\u001b[0m\u001b[0;34m:\u001b[0m\u001b[0;34m\u001b[0m\u001b[0;34m\u001b[0m\u001b[0m\n\u001b[0;32m--> 499\u001b[0;31m             \u001b[0;32mreturn\u001b[0m \u001b[0mself\u001b[0m\u001b[0;34m.\u001b[0m\u001b[0m_readinto_chunked\u001b[0m\u001b[0;34m(\u001b[0m\u001b[0mb\u001b[0m\u001b[0;34m)\u001b[0m\u001b[0;34m\u001b[0m\u001b[0;34m\u001b[0m\u001b[0m\n\u001b[0m\u001b[1;32m    500\u001b[0m \u001b[0;34m\u001b[0m\u001b[0m\n\u001b[1;32m    501\u001b[0m         \u001b[0;32mif\u001b[0m \u001b[0mself\u001b[0m\u001b[0;34m.\u001b[0m\u001b[0mlength\u001b[0m \u001b[0;32mis\u001b[0m \u001b[0;32mnot\u001b[0m \u001b[0;32mNone\u001b[0m\u001b[0;34m:\u001b[0m\u001b[0;34m\u001b[0m\u001b[0;34m\u001b[0m\u001b[0m\n",
            "\u001b[0;32m/usr/lib/python3.7/http/client.py\u001b[0m in \u001b[0;36m_readinto_chunked\u001b[0;34m(self, b)\u001b[0m\n\u001b[1;32m    592\u001b[0m         \u001b[0;32mtry\u001b[0m\u001b[0;34m:\u001b[0m\u001b[0;34m\u001b[0m\u001b[0;34m\u001b[0m\u001b[0m\n\u001b[1;32m    593\u001b[0m             \u001b[0;32mwhile\u001b[0m \u001b[0;32mTrue\u001b[0m\u001b[0;34m:\u001b[0m\u001b[0;34m\u001b[0m\u001b[0;34m\u001b[0m\u001b[0m\n\u001b[0;32m--> 594\u001b[0;31m                 \u001b[0mchunk_left\u001b[0m \u001b[0;34m=\u001b[0m \u001b[0mself\u001b[0m\u001b[0;34m.\u001b[0m\u001b[0m_get_chunk_left\u001b[0m\u001b[0;34m(\u001b[0m\u001b[0;34m)\u001b[0m\u001b[0;34m\u001b[0m\u001b[0;34m\u001b[0m\u001b[0m\n\u001b[0m\u001b[1;32m    595\u001b[0m                 \u001b[0;32mif\u001b[0m \u001b[0mchunk_left\u001b[0m \u001b[0;32mis\u001b[0m \u001b[0;32mNone\u001b[0m\u001b[0;34m:\u001b[0m\u001b[0;34m\u001b[0m\u001b[0;34m\u001b[0m\u001b[0m\n\u001b[1;32m    596\u001b[0m                     \u001b[0;32mreturn\u001b[0m \u001b[0mtotal_bytes\u001b[0m\u001b[0;34m\u001b[0m\u001b[0;34m\u001b[0m\u001b[0m\n",
            "\u001b[0;32m/usr/lib/python3.7/http/client.py\u001b[0m in \u001b[0;36m_get_chunk_left\u001b[0;34m(self)\u001b[0m\n\u001b[1;32m    560\u001b[0m                 \u001b[0mself\u001b[0m\u001b[0;34m.\u001b[0m\u001b[0m_safe_read\u001b[0m\u001b[0;34m(\u001b[0m\u001b[0;36m2\u001b[0m\u001b[0;34m)\u001b[0m  \u001b[0;31m# toss the CRLF at the end of the chunk\u001b[0m\u001b[0;34m\u001b[0m\u001b[0;34m\u001b[0m\u001b[0m\n\u001b[1;32m    561\u001b[0m             \u001b[0;32mtry\u001b[0m\u001b[0;34m:\u001b[0m\u001b[0;34m\u001b[0m\u001b[0;34m\u001b[0m\u001b[0m\n\u001b[0;32m--> 562\u001b[0;31m                 \u001b[0mchunk_left\u001b[0m \u001b[0;34m=\u001b[0m \u001b[0mself\u001b[0m\u001b[0;34m.\u001b[0m\u001b[0m_read_next_chunk_size\u001b[0m\u001b[0;34m(\u001b[0m\u001b[0;34m)\u001b[0m\u001b[0;34m\u001b[0m\u001b[0;34m\u001b[0m\u001b[0m\n\u001b[0m\u001b[1;32m    563\u001b[0m             \u001b[0;32mexcept\u001b[0m \u001b[0mValueError\u001b[0m\u001b[0;34m:\u001b[0m\u001b[0;34m\u001b[0m\u001b[0;34m\u001b[0m\u001b[0m\n\u001b[1;32m    564\u001b[0m                 \u001b[0;32mraise\u001b[0m \u001b[0mIncompleteRead\u001b[0m\u001b[0;34m(\u001b[0m\u001b[0;34mb''\u001b[0m\u001b[0;34m)\u001b[0m\u001b[0;34m\u001b[0m\u001b[0;34m\u001b[0m\u001b[0m\n",
            "\u001b[0;32m/usr/lib/python3.7/http/client.py\u001b[0m in \u001b[0;36m_read_next_chunk_size\u001b[0;34m(self)\u001b[0m\n\u001b[1;32m    520\u001b[0m     \u001b[0;32mdef\u001b[0m \u001b[0m_read_next_chunk_size\u001b[0m\u001b[0;34m(\u001b[0m\u001b[0mself\u001b[0m\u001b[0;34m)\u001b[0m\u001b[0;34m:\u001b[0m\u001b[0;34m\u001b[0m\u001b[0;34m\u001b[0m\u001b[0m\n\u001b[1;32m    521\u001b[0m         \u001b[0;31m# Read the next chunk size from the file\u001b[0m\u001b[0;34m\u001b[0m\u001b[0;34m\u001b[0m\u001b[0;34m\u001b[0m\u001b[0m\n\u001b[0;32m--> 522\u001b[0;31m         \u001b[0mline\u001b[0m \u001b[0;34m=\u001b[0m \u001b[0mself\u001b[0m\u001b[0;34m.\u001b[0m\u001b[0mfp\u001b[0m\u001b[0;34m.\u001b[0m\u001b[0mreadline\u001b[0m\u001b[0;34m(\u001b[0m\u001b[0m_MAXLINE\u001b[0m \u001b[0;34m+\u001b[0m \u001b[0;36m1\u001b[0m\u001b[0;34m)\u001b[0m\u001b[0;34m\u001b[0m\u001b[0;34m\u001b[0m\u001b[0m\n\u001b[0m\u001b[1;32m    523\u001b[0m         \u001b[0;32mif\u001b[0m \u001b[0mlen\u001b[0m\u001b[0;34m(\u001b[0m\u001b[0mline\u001b[0m\u001b[0;34m)\u001b[0m \u001b[0;34m>\u001b[0m \u001b[0m_MAXLINE\u001b[0m\u001b[0;34m:\u001b[0m\u001b[0;34m\u001b[0m\u001b[0;34m\u001b[0m\u001b[0m\n\u001b[1;32m    524\u001b[0m             \u001b[0;32mraise\u001b[0m \u001b[0mLineTooLong\u001b[0m\u001b[0;34m(\u001b[0m\u001b[0;34m\"chunk size\"\u001b[0m\u001b[0;34m)\u001b[0m\u001b[0;34m\u001b[0m\u001b[0;34m\u001b[0m\u001b[0m\n",
            "\u001b[0;32m/usr/lib/python3.7/socket.py\u001b[0m in \u001b[0;36mreadinto\u001b[0;34m(self, b)\u001b[0m\n\u001b[1;32m    587\u001b[0m         \u001b[0;32mwhile\u001b[0m \u001b[0;32mTrue\u001b[0m\u001b[0;34m:\u001b[0m\u001b[0;34m\u001b[0m\u001b[0;34m\u001b[0m\u001b[0m\n\u001b[1;32m    588\u001b[0m             \u001b[0;32mtry\u001b[0m\u001b[0;34m:\u001b[0m\u001b[0;34m\u001b[0m\u001b[0;34m\u001b[0m\u001b[0m\n\u001b[0;32m--> 589\u001b[0;31m                 \u001b[0;32mreturn\u001b[0m \u001b[0mself\u001b[0m\u001b[0;34m.\u001b[0m\u001b[0m_sock\u001b[0m\u001b[0;34m.\u001b[0m\u001b[0mrecv_into\u001b[0m\u001b[0;34m(\u001b[0m\u001b[0mb\u001b[0m\u001b[0;34m)\u001b[0m\u001b[0;34m\u001b[0m\u001b[0;34m\u001b[0m\u001b[0m\n\u001b[0m\u001b[1;32m    590\u001b[0m             \u001b[0;32mexcept\u001b[0m \u001b[0mtimeout\u001b[0m\u001b[0;34m:\u001b[0m\u001b[0;34m\u001b[0m\u001b[0;34m\u001b[0m\u001b[0m\n\u001b[1;32m    591\u001b[0m                 \u001b[0mself\u001b[0m\u001b[0;34m.\u001b[0m\u001b[0m_timeout_occurred\u001b[0m \u001b[0;34m=\u001b[0m \u001b[0;32mTrue\u001b[0m\u001b[0;34m\u001b[0m\u001b[0;34m\u001b[0m\u001b[0m\n",
            "\u001b[0;32m/usr/lib/python3.7/ssl.py\u001b[0m in \u001b[0;36mrecv_into\u001b[0;34m(self, buffer, nbytes, flags)\u001b[0m\n\u001b[1;32m   1069\u001b[0m                   \u001b[0;34m\"non-zero flags not allowed in calls to recv_into() on %s\"\u001b[0m \u001b[0;34m%\u001b[0m\u001b[0;34m\u001b[0m\u001b[0;34m\u001b[0m\u001b[0m\n\u001b[1;32m   1070\u001b[0m                   self.__class__)\n\u001b[0;32m-> 1071\u001b[0;31m             \u001b[0;32mreturn\u001b[0m \u001b[0mself\u001b[0m\u001b[0;34m.\u001b[0m\u001b[0mread\u001b[0m\u001b[0;34m(\u001b[0m\u001b[0mnbytes\u001b[0m\u001b[0;34m,\u001b[0m \u001b[0mbuffer\u001b[0m\u001b[0;34m)\u001b[0m\u001b[0;34m\u001b[0m\u001b[0;34m\u001b[0m\u001b[0m\n\u001b[0m\u001b[1;32m   1072\u001b[0m         \u001b[0;32melse\u001b[0m\u001b[0;34m:\u001b[0m\u001b[0;34m\u001b[0m\u001b[0;34m\u001b[0m\u001b[0m\n\u001b[1;32m   1073\u001b[0m             \u001b[0;32mreturn\u001b[0m \u001b[0msuper\u001b[0m\u001b[0;34m(\u001b[0m\u001b[0;34m)\u001b[0m\u001b[0;34m.\u001b[0m\u001b[0mrecv_into\u001b[0m\u001b[0;34m(\u001b[0m\u001b[0mbuffer\u001b[0m\u001b[0;34m,\u001b[0m \u001b[0mnbytes\u001b[0m\u001b[0;34m,\u001b[0m \u001b[0mflags\u001b[0m\u001b[0;34m)\u001b[0m\u001b[0;34m\u001b[0m\u001b[0;34m\u001b[0m\u001b[0m\n",
            "\u001b[0;32m/usr/lib/python3.7/ssl.py\u001b[0m in \u001b[0;36mread\u001b[0;34m(self, len, buffer)\u001b[0m\n\u001b[1;32m    927\u001b[0m         \u001b[0;32mtry\u001b[0m\u001b[0;34m:\u001b[0m\u001b[0;34m\u001b[0m\u001b[0;34m\u001b[0m\u001b[0m\n\u001b[1;32m    928\u001b[0m             \u001b[0;32mif\u001b[0m \u001b[0mbuffer\u001b[0m \u001b[0;32mis\u001b[0m \u001b[0;32mnot\u001b[0m \u001b[0;32mNone\u001b[0m\u001b[0;34m:\u001b[0m\u001b[0;34m\u001b[0m\u001b[0;34m\u001b[0m\u001b[0m\n\u001b[0;32m--> 929\u001b[0;31m                 \u001b[0;32mreturn\u001b[0m \u001b[0mself\u001b[0m\u001b[0;34m.\u001b[0m\u001b[0m_sslobj\u001b[0m\u001b[0;34m.\u001b[0m\u001b[0mread\u001b[0m\u001b[0;34m(\u001b[0m\u001b[0mlen\u001b[0m\u001b[0;34m,\u001b[0m \u001b[0mbuffer\u001b[0m\u001b[0;34m)\u001b[0m\u001b[0;34m\u001b[0m\u001b[0;34m\u001b[0m\u001b[0m\n\u001b[0m\u001b[1;32m    930\u001b[0m             \u001b[0;32melse\u001b[0m\u001b[0;34m:\u001b[0m\u001b[0;34m\u001b[0m\u001b[0;34m\u001b[0m\u001b[0m\n\u001b[1;32m    931\u001b[0m                 \u001b[0;32mreturn\u001b[0m \u001b[0mself\u001b[0m\u001b[0;34m.\u001b[0m\u001b[0m_sslobj\u001b[0m\u001b[0;34m.\u001b[0m\u001b[0mread\u001b[0m\u001b[0;34m(\u001b[0m\u001b[0mlen\u001b[0m\u001b[0;34m)\u001b[0m\u001b[0;34m\u001b[0m\u001b[0;34m\u001b[0m\u001b[0m\n",
            "\u001b[0;31mKeyboardInterrupt\u001b[0m: "
          ]
        }
      ]
    },
    {
      "cell_type": "markdown",
      "source": [
        "## Trendlines de Usuarios\n",
        "También podemos usar los métodos ya definidos en tweepy para buscar los últimos tweets publicados por un usuario determinado"
      ],
      "metadata": {
        "id": "a26tXEFWGCyB"
      }
    },
    {
      "cell_type": "code",
      "metadata": {
        "id": "sYMatv_S-wKE"
      },
      "source": [
        "api = API()\n",
        "auth = OAuthHandler('2TQBFZmx4uj1NyU7Rcg57Ouxz',\n",
        "                    'Eyrcor67vCrQmZVOZ6577HAD1EQu7ilySu7HF474KWtCbrN5U6') # Pasamos las api keys\n",
        "\n",
        "auth.set_access_token('1009444901703086080-E3EMJSfKtftv0q9aKsmhREckBnpV0T',\n",
        "                      'iqZu8BHKKJs8SxASSh5TmVmKIUW8YWUEnQfiWFLdEbDPm') # Pasamos las token keys\n",
        "api.auth = auth"
      ],
      "execution_count": null,
      "outputs": []
    },
    {
      "cell_type": "code",
      "metadata": {
        "id": "wXebjY22jjYt",
        "colab": {
          "base_uri": "https://localhost:8080/"
        },
        "outputId": "3cab7a19-e3e9-4b0e-ea1f-17ec49524430"
      },
      "source": [
        "t = api.user_timeline(screen_name = 'batransito', count = 3200, exclude_replies = False, tweet_mode=\"extended\")\n",
        "print(f'Conseguimos {len(t)} tweets, desde el {t[-1]._json[\"created_at\"]}, hasta el {t[0]._json[\"created_at\"]}. ¿Hay más?')"
      ],
      "execution_count": null,
      "outputs": [
        {
          "output_type": "stream",
          "name": "stdout",
          "text": [
            "Conseguimos 200 tweets, desde el Sat May 21 10:33:56 +0000 2022, hasta el Tue May 24 22:19:22 +0000 2022. ¿Hay más?\n"
          ]
        }
      ]
    },
    {
      "cell_type": "markdown",
      "source": [
        "Pensémonos a nosotrxs usando Twitter: ¿todo se nos muestra? No, entramos a la app, vemos cierta cantidad de tweets, pero para ver más, tenemos que scrolear. Bueno, a la api le pasa lo mismo, tenemos que cambiar de página/ir hacia abajo. Para esto, usamos el método [Cursor](https://docs.tweepy.org/en/v4.10.0/v1_pagination.html#tweepy.Cursor)"
      ],
      "metadata": {
        "id": "eU7TG5TwHsOT"
      }
    },
    {
      "cell_type": "code",
      "source": [
        "t = []\n",
        "\n",
        "for tweet in Cursor(api.user_timeline, screen_name = 'batransito', count = 3200, exclude_replies = False, tweet_mode=\"extended\").items():\n",
        "    t.append(tweet)\n",
        "\n",
        "print(f'Conseguimos {len(t)} tweets, desde el {t[-1]._json[\"created_at\"]}, hasta el {t[0]._json[\"created_at\"]}. Y ya no nos van a dar más.')"
      ],
      "metadata": {
        "colab": {
          "base_uri": "https://localhost:8080/"
        },
        "id": "gNK38IRlH9O4",
        "outputId": "580392f0-5bca-407b-bef9-953bfae0cf7c"
      },
      "execution_count": null,
      "outputs": [
        {
          "output_type": "stream",
          "name": "stdout",
          "text": [
            "Conseguimos 3250 tweets, desde el Wed Mar 30 23:29:00 +0000 2022, hasta el Tue May 24 22:19:22 +0000 2022. Y ya no nos van a dar más.\n"
          ]
        }
      ]
    },
    {
      "cell_type": "code",
      "source": [
        "t[0]._json['user'].keys()"
      ],
      "metadata": {
        "colab": {
          "base_uri": "https://localhost:8080/"
        },
        "id": "hzvbSX0eKkzl",
        "outputId": "4c87495b-882f-4d56-b8d6-92c2f6c27818"
      },
      "execution_count": null,
      "outputs": [
        {
          "output_type": "execute_result",
          "data": {
            "text/plain": [
              "dict_keys(['id', 'id_str', 'name', 'screen_name', 'location', 'description', 'url', 'entities', 'protected', 'followers_count', 'friends_count', 'listed_count', 'created_at', 'favourites_count', 'utc_offset', 'time_zone', 'geo_enabled', 'verified', 'statuses_count', 'lang', 'contributors_enabled', 'is_translator', 'is_translation_enabled', 'profile_background_color', 'profile_background_image_url', 'profile_background_image_url_https', 'profile_background_tile', 'profile_image_url', 'profile_image_url_https', 'profile_banner_url', 'profile_link_color', 'profile_sidebar_border_color', 'profile_sidebar_fill_color', 'profile_text_color', 'profile_use_background_image', 'has_extended_profile', 'default_profile', 'default_profile_image', 'following', 'follow_request_sent', 'notifications', 'translator_type', 'withheld_in_countries'])"
            ]
          },
          "metadata": {},
          "execution_count": 31
        }
      ]
    },
    {
      "cell_type": "code",
      "source": [
        ""
      ],
      "metadata": {
        "id": "SxbarAEvK4DK"
      },
      "execution_count": null,
      "outputs": []
    }
  ]
}
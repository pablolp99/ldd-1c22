{
  "nbformat": 4,
  "nbformat_minor": 0,
  "metadata": {
    "colab": {
      "name": "API_OpenStreetMaps.ipynb",
      "provenance": [],
      "collapsed_sections": []
    },
    "kernelspec": {
      "name": "python3",
      "display_name": "Python 3"
    },
    "language_info": {
      "name": "python"
    }
  },
  "cells": [
    {
      "cell_type": "markdown",
      "source": [
        "# Interacción con Open Street Maps mediante API\n",
        "\n",
        "[Open Street Map](https://www.openstreetmap.org/#map=4/-40.44/-63.59) es un proyecto colaborativo que condensa muchas herramientas para trabajar con datos georeferenciados, mapas, movilidad, etc. Podemos pensarlo como un mapa con información cargada por sus usuarios.\n",
        "\n",
        "Dependiendo lo que estemos queriendo hacer, existen distintas APIs que interactúan con OSM. Algunas trabajan con datos de forma remota (la que veremos hoy), otras nos permiten descargar datos y trabajarlos localmente (osmnx, para trabajar con redes de calles).\n",
        "\n",
        "Hoy, vamos a usar la [Open Source Routing Machine](http://project-osrm.org/), que utiliza la información de OSM y algoritmos de ruteo para darnos información sobre distancia y tiempo de viaje entre dos lugares."
      ],
      "metadata": {
        "id": "tzHJy_nZSADN"
      }
    },
    {
      "cell_type": "markdown",
      "source": [
        "## ¿Qué tanto se aleja Buenos Aires del sueño euclideo?\n",
        "\n",
        "Una vez que aprendemos que la hipotenusa es más chica que sumar los catetos, queremos andar metiendo diagonales por todos lados. Nunca faltan los senderos autoinducidos en los parques que acortan las distancias propuestas por los paisajistas.\n",
        "\n",
        "Veamos entonces, dados n puntos aleatorios de Buenos Aires, cuál es su distancia euclídea vs cuál es su distancia tomando las calles. De esta forma, tendremos una noción de qué tanto se aleja el entramado urbano del sueño euclídeo."
      ],
      "metadata": {
        "id": "0pUh8uQuT0ug"
      }
    },
    {
      "cell_type": "code",
      "source": [
        "!apt update\n",
        "!apt upgrade\n",
        "!apt install gdal-bin python-gdal python3-gdal \n",
        "\n",
        "# Install rtree - Geopandas requirment\n",
        "!apt install python3-rtree \n",
        "# Install Geopandas\n",
        "!pip install geopandas\n",
        "# Install descartes - Geopandas requirment\n",
        "!pip install descartes \n",
        "!pip install pyproj\n",
        "\n",
        "import pandas as pd\n",
        "import requests # Con la que enviamos pedidos a la api\n",
        "import geopandas as gpd # Para manejar objetos geometricos en un data frame\n",
        "import random as rm # Cosas random\n",
        "import matplotlib.pylab as plt # Visualizacion\n",
        "import numpy as np # Matemáticas\n",
        "import shapely.geometry as geometry #Geometrías en 2D\n",
        "import pyproj # Geometrías en 3D"
      ],
      "metadata": {
        "colab": {
          "base_uri": "https://localhost:8080/"
        },
        "id": "t_0q8NNFTyUX",
        "outputId": "98dac1f8-496e-4a1e-cd9f-cf5fc91bd92d"
      },
      "execution_count": null,
      "outputs": [
        {
          "output_type": "stream",
          "name": "stdout",
          "text": [
            "\u001b[33m\r0% [Working]\u001b[0m\r            \rGet:1 http://security.ubuntu.com/ubuntu bionic-security InRelease [88.7 kB]\n",
            "\u001b[33m\r0% [Connecting to archive.ubuntu.com] [1 InRelease 0 B/88.7 kB 0%] [Connected t\u001b[0m\r                                                                               \rHit:2 https://developer.download.nvidia.com/compute/cuda/repos/ubuntu1804/x86_64  InRelease\n",
            "Hit:3 https://cloud.r-project.org/bin/linux/ubuntu bionic-cran40/ InRelease\n",
            "Ign:4 https://developer.download.nvidia.com/compute/machine-learning/repos/ubuntu1804/x86_64  InRelease\n",
            "Hit:5 https://developer.download.nvidia.com/compute/machine-learning/repos/ubuntu1804/x86_64  Release\n",
            "Hit:6 http://ppa.launchpad.net/c2d4u.team/c2d4u4.0+/ubuntu bionic InRelease\n",
            "Hit:7 http://archive.ubuntu.com/ubuntu bionic InRelease\n",
            "Get:8 http://archive.ubuntu.com/ubuntu bionic-updates InRelease [88.7 kB]\n",
            "Hit:9 http://ppa.launchpad.net/cran/libgit2/ubuntu bionic InRelease\n",
            "Hit:10 http://ppa.launchpad.net/deadsnakes/ppa/ubuntu bionic InRelease\n",
            "Get:11 http://archive.ubuntu.com/ubuntu bionic-backports InRelease [74.6 kB]\n",
            "Hit:13 http://ppa.launchpad.net/graphics-drivers/ppa/ubuntu bionic InRelease\n",
            "Get:14 http://archive.ubuntu.com/ubuntu bionic-updates/restricted amd64 Packages [981 kB]\n",
            "Get:15 http://archive.ubuntu.com/ubuntu bionic-updates/main amd64 Packages [3,212 kB]\n",
            "Fetched 4,445 kB in 3s (1,373 kB/s)\n",
            "Reading package lists... Done\n",
            "Building dependency tree       \n",
            "Reading state information... Done\n",
            "4 packages can be upgraded. Run 'apt list --upgradable' to see them.\n",
            "Reading package lists... Done\n",
            "Building dependency tree       \n",
            "Reading state information... Done\n",
            "Calculating upgrade... Done\n",
            "The following packages were automatically installed and are no longer required:\n",
            "  libnvidia-common-460 linux-headers-4.15.0-177\n",
            "  linux-headers-4.15.0-177-generic\n",
            "Use 'apt autoremove' to remove them.\n",
            "The following packages have been kept back:\n",
            "  libcudnn8 libcudnn8-dev libnccl-dev libnccl2\n",
            "0 upgraded, 0 newly installed, 0 to remove and 4 not upgraded.\n",
            "Reading package lists... Done\n",
            "Building dependency tree       \n",
            "Reading state information... Done\n",
            "gdal-bin is already the newest version (2.2.3+dfsg-2).\n",
            "python-gdal is already the newest version (2.2.3+dfsg-2).\n",
            "python3-gdal is already the newest version (2.2.3+dfsg-2).\n",
            "The following packages were automatically installed and are no longer required:\n",
            "  libnvidia-common-460 linux-headers-4.15.0-177\n",
            "  linux-headers-4.15.0-177-generic\n",
            "Use 'apt autoremove' to remove them.\n",
            "0 upgraded, 0 newly installed, 0 to remove and 4 not upgraded.\n",
            "Reading package lists... Done\n",
            "Building dependency tree       \n",
            "Reading state information... Done\n",
            "python3-rtree is already the newest version (0.8.3+ds-1).\n",
            "The following packages were automatically installed and are no longer required:\n",
            "  libnvidia-common-460 linux-headers-4.15.0-177\n",
            "  linux-headers-4.15.0-177-generic\n",
            "Use 'apt autoremove' to remove them.\n",
            "0 upgraded, 0 newly installed, 0 to remove and 4 not upgraded.\n",
            "Requirement already satisfied: geopandas in /usr/local/lib/python3.7/dist-packages (0.10.2)\n",
            "Requirement already satisfied: shapely>=1.6 in /usr/local/lib/python3.7/dist-packages (from geopandas) (1.8.2)\n",
            "Requirement already satisfied: fiona>=1.8 in /usr/local/lib/python3.7/dist-packages (from geopandas) (1.8.21)\n",
            "Requirement already satisfied: pyproj>=2.2.0 in /usr/local/lib/python3.7/dist-packages (from geopandas) (3.2.1)\n",
            "Requirement already satisfied: pandas>=0.25.0 in /usr/local/lib/python3.7/dist-packages (from geopandas) (1.3.5)\n",
            "Requirement already satisfied: attrs>=17 in /usr/local/lib/python3.7/dist-packages (from fiona>=1.8->geopandas) (21.4.0)\n",
            "Requirement already satisfied: cligj>=0.5 in /usr/local/lib/python3.7/dist-packages (from fiona>=1.8->geopandas) (0.7.2)\n",
            "Requirement already satisfied: click-plugins>=1.0 in /usr/local/lib/python3.7/dist-packages (from fiona>=1.8->geopandas) (1.1.1)\n",
            "Requirement already satisfied: six>=1.7 in /usr/local/lib/python3.7/dist-packages (from fiona>=1.8->geopandas) (1.15.0)\n",
            "Requirement already satisfied: click>=4.0 in /usr/local/lib/python3.7/dist-packages (from fiona>=1.8->geopandas) (7.1.2)\n",
            "Requirement already satisfied: setuptools in /usr/local/lib/python3.7/dist-packages (from fiona>=1.8->geopandas) (57.4.0)\n",
            "Requirement already satisfied: munch in /usr/local/lib/python3.7/dist-packages (from fiona>=1.8->geopandas) (2.5.0)\n",
            "Requirement already satisfied: certifi in /usr/local/lib/python3.7/dist-packages (from fiona>=1.8->geopandas) (2021.10.8)\n",
            "Requirement already satisfied: python-dateutil>=2.7.3 in /usr/local/lib/python3.7/dist-packages (from pandas>=0.25.0->geopandas) (2.8.2)\n",
            "Requirement already satisfied: numpy>=1.17.3 in /usr/local/lib/python3.7/dist-packages (from pandas>=0.25.0->geopandas) (1.21.6)\n",
            "Requirement already satisfied: pytz>=2017.3 in /usr/local/lib/python3.7/dist-packages (from pandas>=0.25.0->geopandas) (2022.1)\n",
            "Requirement already satisfied: descartes in /usr/local/lib/python3.7/dist-packages (1.1.0)\n",
            "Requirement already satisfied: matplotlib in /usr/local/lib/python3.7/dist-packages (from descartes) (3.2.2)\n",
            "Requirement already satisfied: python-dateutil>=2.1 in /usr/local/lib/python3.7/dist-packages (from matplotlib->descartes) (2.8.2)\n",
            "Requirement already satisfied: numpy>=1.11 in /usr/local/lib/python3.7/dist-packages (from matplotlib->descartes) (1.21.6)\n",
            "Requirement already satisfied: cycler>=0.10 in /usr/local/lib/python3.7/dist-packages (from matplotlib->descartes) (0.11.0)\n",
            "Requirement already satisfied: pyparsing!=2.0.4,!=2.1.2,!=2.1.6,>=2.0.1 in /usr/local/lib/python3.7/dist-packages (from matplotlib->descartes) (3.0.9)\n",
            "Requirement already satisfied: kiwisolver>=1.0.1 in /usr/local/lib/python3.7/dist-packages (from matplotlib->descartes) (1.4.2)\n",
            "Requirement already satisfied: typing-extensions in /usr/local/lib/python3.7/dist-packages (from kiwisolver>=1.0.1->matplotlib->descartes) (4.2.0)\n",
            "Requirement already satisfied: six>=1.5 in /usr/local/lib/python3.7/dist-packages (from python-dateutil>=2.1->matplotlib->descartes) (1.15.0)\n",
            "Requirement already satisfied: pyproj in /usr/local/lib/python3.7/dist-packages (3.2.1)\n",
            "Requirement already satisfied: certifi in /usr/local/lib/python3.7/dist-packages (from pyproj) (2021.10.8)\n"
          ]
        }
      ]
    },
    {
      "cell_type": "markdown",
      "source": [
        "### ¿Cómo se hace un requests y cómo se ve?\n",
        "\n",
        "Rápidamente, veamos cómo se hace un requests en esta api"
      ],
      "metadata": {
        "id": "-UW7W9MsaYnK"
      }
    },
    {
      "cell_type": "code",
      "source": [
        "# Definimos los parámetros\n",
        "lon1, lat1 =  -58.44931065496426, -34.589964078164115 # Desde\n",
        "lon2, lat2 =  -58.44395974951271, -34.54236193536392# Hasta\n",
        "profile = 'car' # En auto\n",
        "\n",
        "url = f'http://router.project-osrm.org/route/v1/{profile}/{lon1},{lat1};{lon2},{lat2}?overview=full&geometries=geojson'\n",
        "\n",
        "s = requests.sessions.Session() # Generamos una sesión, veremos esto en detalle la clase que viene\n",
        "r = s.get(url) # Con la sesión, generamos un requests de tipo get, apuntando al url que definimos arriba\n",
        "\n",
        "print(f'El status del pedido es {r.status_code}')\n",
        "print(f'La información que nos está devolviendo es {list(r.json().keys())}')\n",
        "print(f'La distancia del trayecto es: {r.json()[\"routes\"][0][\"distance\"]} mts')"
      ],
      "metadata": {
        "colab": {
          "base_uri": "https://localhost:8080/"
        },
        "id": "DlfOcJvxahCU",
        "outputId": "c53aa0a6-2a3c-4669-d950-eafa2a87c6e6"
      },
      "execution_count": null,
      "outputs": [
        {
          "output_type": "stream",
          "name": "stdout",
          "text": [
            "El status del pedido es 200\n",
            "La información que nos está devolviendo es ['code', 'routes', 'waypoints']\n",
            "La distancia del trayecto es: 8790.8 mts\n"
          ]
        }
      ]
    },
    {
      "cell_type": "code",
      "source": [
        "# Primero, hacemos una función para encontrar n puntos aleatorios dentro de un polígono\n",
        "\n",
        "def puntos_aleatorios(n, poligono):\n",
        "    puntos = [] # Lista de puntos aleatorios\n",
        "    i = 0 # contador\n",
        "    x_min, y_min, x_max, y_max = poligono.bounds # límites del polígono\n",
        "    while i < n:\n",
        "        x, y = rm.uniform(x_min, x_max), rm.uniform(y_min, y_max) # buscamos un punto aleatorio\n",
        "        p = geometry.Point(x, y)\n",
        "        if p.intersects(poligono): # chequeamos que esté en el polígono (pensar que el bounds nos genera un rectángulo)\n",
        "            puntos.append(p)\n",
        "            i += 1\n",
        "    return puntos\n",
        "# Ahora la función que utiliza al API para encontrar la distancia\n",
        "def distancia_urbana(lon1, lat1, lon2, lat2, profile = 'car'):\n",
        "    url = f'http://router.project-osrm.org/route/v1/{profile}/{lon1},{lat1};{lon2},{lat2}?overview=full' # Esto es todo lo que necesitamos, ni más ni menos!!!!!\n",
        "    s = requests.sessions.Session()\n",
        "    r = s.get(url)\n",
        "    if r.status_code == 200:\n",
        "        d = r.json()['routes'][0]['distance']\n",
        "    else:\n",
        "        d = np.nan\n",
        "    return d\n",
        "\n",
        "def distancia_euclidea(lon1, lat1, lon2, lat2, geod = pyproj.Geod(ellps = 'WGS84')):\n",
        "    un_angulo, otro_angulo, d =  geod.inv(lon1,\n",
        "                                          lat1,\n",
        "                                          lon2,\n",
        "                                          lat2)\n",
        "    return d"
      ],
      "metadata": {
        "id": "u5kxXqNGXbAH"
      },
      "execution_count": null,
      "outputs": []
    },
    {
      "cell_type": "markdown",
      "source": [
        "Ahora, el experimento"
      ],
      "metadata": {
        "id": "RehJq2AFgdnb"
      }
    },
    {
      "cell_type": "code",
      "source": [
        "# De algún lado, sacamos el polígono de la ciudad\n",
        "\n",
        "pol_ciudad = geometry.Polygon([[-58.46649169921874, -34.53201544327429],\n",
        "                              [-58.502540588378906, -34.548700892614896],\n",
        "                              [-58.534812927246094, -34.613713921614],\n",
        "                              [-58.53137969970704, -34.65608631601125],\n",
        "                              [-58.46031188964843, -34.707469080745355],\n",
        "                              [-58.42185974121093, -34.66258150231495],\n",
        "                              [-58.412246704101555, -34.66003996830131],\n",
        "                              [-58.39439392089844, -34.66342866299695],\n",
        "                              [-58.38478088378906, -34.65947517237913],\n",
        "                              [-58.37413787841796, -34.6586279712784],\n",
        "                              [-58.36795806884766, -34.65297974261105],\n",
        "                              [-58.35456848144531, -34.645071575851944],\n",
        "                              [-58.355255126953125, -34.63970489023272],\n",
        "                              [-58.34976196289062, -34.63433785730248],\n",
        "                              [-58.33499908447265, -34.626427912618915],\n",
        "                              [-58.34907531738281, -34.59365010878254],\n",
        "                              [-58.376197814941406, -34.56849284983176],\n",
        "                              [-58.39096069335938, -34.56821014074331],\n",
        "                              [-58.4585952758789, -34.526924301401024],\n",
        "                              [-58.46649169921874, -34.53201544327429]]\n",
        "                            )\n",
        "# Generemos los puntos aleatorios\n",
        "n = 10\n",
        "\n",
        "puntos = puntos_aleatorios(n, pol_ciudad)\n",
        "\n",
        "d = {'p1' : [], 'p2' : [], 'du' : [], 'de' : []}\n",
        "\n",
        "distancias_urbanas = []\n",
        "distancias_euclideas = []\n",
        "geod = pyproj.Geod(ellps = 'WGS84')\n",
        "for i, p1 in enumerate(puntos):\n",
        "    for p2 in puntos[i + 1:]:\n",
        "        lon1, lat1 = np.array(p1.coords).T\n",
        "        lon2, lat2 = np.array(p2.coords).T\n",
        "        d['p1'].append(p1)\n",
        "        d['p2'].append(p2)\n",
        "        d['du'].append(distancia_urbana(lon1[0],\n",
        "                                        lat1[0],\n",
        "                                        lon2[0],\n",
        "                                        lat2[0]))\n",
        "        d['de'].append(distancia_euclidea(lon1[0],\n",
        "                                          lat1[0],\n",
        "                                          lon2[0],\n",
        "                                          lat2[0],\n",
        "                                          geod = geod))\n",
        "d = pd.DataFrame(d)\n",
        "d['delta_d'] = d['du'] - d['de']"
      ],
      "metadata": {
        "colab": {
          "base_uri": "https://localhost:8080/"
        },
        "id": "cyCoc-4cdKsW",
        "outputId": "fd284ee0-27b2-4f1b-e153-3e20f708d64f"
      },
      "execution_count": null,
      "outputs": [
        {
          "output_type": "stream",
          "name": "stderr",
          "text": [
            "/usr/local/lib/python3.7/dist-packages/pandas/core/dtypes/cast.py:118: ShapelyDeprecationWarning: The array interface is deprecated and will no longer work in Shapely 2.0. Convert the '.coords' to a numpy array instead.\n",
            "  arr = construct_1d_object_array_from_listlike(values)\n"
          ]
        }
      ]
    },
    {
      "cell_type": "code",
      "source": [
        "fig, ax = plt.subplots()\n",
        "ax.set_title('Histograma de las diferencias entre las distancias [m]')\n",
        "ax.hist(d['delta_d'])\n",
        "ax.set_xlabel('$\\Delta d [m]$')\n",
        "plt.show()"
      ],
      "metadata": {
        "colab": {
          "base_uri": "https://localhost:8080/",
          "height": 299
        },
        "id": "wou3anZLjAAl",
        "outputId": "6286166b-548c-4cd8-da58-adb548809eb9"
      },
      "execution_count": null,
      "outputs": [
        {
          "output_type": "display_data",
          "data": {
            "text/plain": [
              "<Figure size 432x288 with 1 Axes>"
            ],
            "image/png": "[encoded data removed]"
          },
          "metadata": {
            "needs_background": "light"
          }
        }
      ]
    },
    {
      "cell_type": "markdown",
      "source": [
        "Veamos por último cuál es la ruta para la cual la diferencia es mayor"
      ],
      "metadata": {
        "id": "TcF0UZIdjvXk"
      }
    },
    {
      "cell_type": "code",
      "source": [
        "ruta_maxima = d.sort_values(by = 'delta_d', ascending = False).iloc[0]\n",
        "ruta_maxima"
      ],
      "metadata": {
        "colab": {
          "base_uri": "https://localhost:8080/"
        },
        "id": "gTJqv16NjV42",
        "outputId": "acc2f9b8-abef-4b1d-b6d1-10083803407c"
      },
      "execution_count": null,
      "outputs": [
        {
          "output_type": "execute_result",
          "data": {
            "text/plain": [
              "p1         POINT (-58.38010152408503 -34.634113023173896)\n",
              "p2          POINT (-58.48848589830587 -34.56120909671498)\n",
              "du                                                22760.8\n",
              "de                                           12816.331196\n",
              "delta_d                                       9944.468804\n",
              "Name: 5, dtype: object"
            ]
          },
          "metadata": {},
          "execution_count": 6
        }
      ]
    },
    {
      "cell_type": "code",
      "source": [
        "lon1, lat1 = np.array(ruta_maxima['p1'].coords).T\n",
        "lon2, lat2 = np.array(ruta_maxima['p2'].coords).T\n",
        "\n",
        "profile = 'car' # En auto\n",
        "\n",
        "url = f'http://router.project-osrm.org/route/v1/{profile}/{lon1[0]},{lat1[0]};{lon2[0]},{lat2[0]}?overview=full&geometries=geojson'\n",
        "\n",
        "s = requests.sessions.Session() # Generamos una sesión, veremos esto en detalle la clase que viene\n",
        "r = s.get(url)\n",
        "\n",
        "ruta = geometry.LineString(r.json()['routes'][0]['geometry']['coordinates'])\n",
        "d_auxiliar = gpd.GeoDataFrame([pol_ciudad,ruta, geometry.LineString([[lon1,lat1], [lon2,lat2]])], geometry = 0)\n",
        "\n",
        "fig, ax = plt.subplots(figsize = (10,10))\n",
        "d_auxiliar[:1].plot(color = 'blue', alpha = 0.2, ax = ax)\n",
        "d_auxiliar[1:3].plot(color = ['blue','orange','red'], ax = ax)\n",
        "ax.axis('off')\n",
        "plt.show()"
      ],
      "metadata": {
        "colab": {
          "base_uri": "https://localhost:8080/",
          "height": 535
        },
        "id": "TbcOpGo2kI8Z",
        "outputId": "fed10cc1-ca17-43ec-f441-f8886a77462a"
      },
      "execution_count": null,
      "outputs": [
        {
          "output_type": "display_data",
          "data": {
            "text/plain": [
              "<Figure size 720x720 with 1 Axes>"
            ],
            "image/png": "[encoded data removed]"
          },
          "metadata": {
            "needs_background": "light"
          }
        }
      ]
    },
    {
      "cell_type": "code",
      "source": [
        ""
      ],
      "metadata": {
        "id": "onDTmiKWmzf9"
      },
      "execution_count": null,
      "outputs": []
    },
    {
      "cell_type": "markdown",
      "source": [
        "De [acá](https://geojson.io) extraje el polígono"
      ],
      "metadata": {
        "id": "yKcGVuVKOaTj"
      }
    },
    {
      "cell_type": "code",
      "source": [
        ""
      ],
      "metadata": {
        "id": "xOexZ8I5OkOs"
      },
      "execution_count": null,
      "outputs": []
    }
  ]
}
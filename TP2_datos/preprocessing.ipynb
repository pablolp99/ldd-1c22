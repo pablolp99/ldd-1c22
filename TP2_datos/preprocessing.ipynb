{
 "cells": [
  {
   "cell_type": "code",
   "execution_count": 155,
   "id": "0b82a559-0f50-4afc-9150-bba5273e3b58",
   "metadata": {},
   "outputs": [],
   "source": [
    "from datetime import datetime\n",
    "import numpy as np\n",
    "import pandas as pd\n",
    "\n",
    "import string\n",
    "import nltk\n",
    "from nltk.tokenize import word_tokenize\n",
    "\n",
    "from gensim.models.doc2vec import Doc2Vec, TaggedDocument"
   ]
  },
  {
   "cell_type": "code",
   "execution_count": 176,
   "id": "1265839c-e8b5-4b23-aa56-98ffa366f757",
   "metadata": {},
   "outputs": [],
   "source": [
    "def tokenize_sentence(s):\n",
    "    _s = \"\".join([w for w in s.lower() if w not in string.punctuation])\n",
    "    return [i.lower() for i in word_tokenize(_s)]\n",
    "\n",
    "def vectorize(ts):\n",
    "    return sum([model.wv.get_vector(i) for i in ts])"
   ]
  },
  {
   "cell_type": "code",
   "execution_count": 116,
   "id": "11c199d0-b864-4765-a94d-a76e89287b8a",
   "metadata": {},
   "outputs": [],
   "source": [
    "to_drop = [\n",
    "    'number',\n",
    "    'street',\n",
    "    'side',\n",
    "    'city',\n",
    "    'county',\n",
    "    'state',\n",
    "    'zipcode',\n",
    "    'country',\n",
    "    'timezone',\n",
    "    'airport_code',\n",
    "    'weather_timestamp',\n",
    "]\n",
    "\n",
    "to_cast = [\n",
    "    \"amenity\",\n",
    "    \"bump\",\n",
    "    \"crossing\",\n",
    "    \"give_way\",\n",
    "    \"junction\",\n",
    "    \"no_exit\",\n",
    "    \"railway\",\n",
    "    \"roundabout\",\n",
    "    \"station\",\n",
    "    \"stop\",\n",
    "    \"traffic_calming\",\n",
    "    \"traffic_signal\",\n",
    "    \"turning_loop\",\n",
    "    \"sunrise_sunset\",\n",
    "    \"civil_twilight\",\n",
    "    \"nautical_twilight\",\n",
    "    \"astronomical_twilight\",\n",
    "]\n",
    "\n",
    "sunset_twilight = {\n",
    "    \"Day\": 1,\n",
    "    \"Night\": 0,\n",
    "}"
   ]
  },
  {
   "cell_type": "code",
   "execution_count": 115,
   "id": "092bb91a-c786-473a-821a-02818676ecf0",
   "metadata": {},
   "outputs": [],
   "source": [
    "df = pd.read_csv(\"train.csv\").drop(columns=['Unnamed: 0.1','Unnamed: 0'])\n",
    "df_cpy = df.copy()\n",
    "\n",
    "df.columns = list(map(lambda x: x.lower(), df.columns))\n",
    "\n",
    "df = df.drop(columns=to_drop)\n",
    "df['start_time'] = pd.to_datetime(df['start_time'])\n",
    "df['end_time'] = pd.to_datetime(df['end_time'])\n",
    "\n",
    "df['start_month'] = df['start_time'].apply(lambda x: x.month).astype(np.uint8)\n",
    "df['start_day'] = df['start_time'].apply(lambda x: x.day).astype(np.uint8)\n",
    "df['start_hour'] = df['start_time'].apply(lambda x: x.hour).astype(np.uint8)\n",
    "df['end_month'] = df['end_time'].apply(lambda x: x.month).astype(np.uint8)\n",
    "df['end_day'] = df['end_time'].apply(lambda x: x.day).astype(np.uint8)\n",
    "df['end_hour'] = df['end_time'].apply(lambda x: x.hour).astype(np.uint8)\n",
    "\n",
    "for c in ['sunrise_sunset','civil_twilight','nautical_twilight','astronomical_twilight']:\n",
    "    df[c] = df[c].apply(lambda x: sunset_twilight.get(x, -1))\n",
    "    \n",
    "for i in to_cast:\n",
    "    df[i] = df[i].astype(np.uint8)\n",
    "    \n",
    "df = df.join(pd.get_dummies(df.weather_condition, prefix='weather'))\n",
    "df = df.join(pd.get_dummies(df.wind_direction, prefix='weather'))\n",
    "df = df.drop(columns=['start_time', 'end_time', 'weather_condition', 'wind_direction'])"
   ]
  },
  {
   "cell_type": "code",
   "execution_count": 120,
   "id": "401e426b-c4aa-44f8-8259-fe7ef15e09cb",
   "metadata": {},
   "outputs": [],
   "source": [
    "df = df.rename(\n",
    "    columns={\n",
    "        \"distance(mi)\": \"distance_mi\",\n",
    "        \"temperature(f)\": \"temperature_f\",\n",
    "        \"wind_chill(f)\": \"wind_chill_f\",\n",
    "        \"humidity(%)\": \"humidity_perc\",\n",
    "        \"pressure(in)\": \"pressure_in\",\n",
    "        \"visibility(mi)\": \"visibility_mi\",\n",
    "        \"wind_speed(mph)\": \"wind_speed_mph\",\n",
    "        \"precipitation(in)\": \"precipitation_in\",\n",
    "    }\n",
    ")"
   ]
  },
  {
   "cell_type": "code",
   "execution_count": null,
   "id": "03aa3798-4fdb-467e-9e70-65e176d79493",
   "metadata": {},
   "outputs": [],
   "source": [
    "sentences = df.description\n",
    "# Tokenization of each document\n",
    "tokenized_sent = []\n",
    "for s in sentences:\n",
    "    tokenized_sent.append(tokenize_sentence(s))\n",
    "\n",
    "tagged_data = [TaggedDocument(d, [i]) for i, d in enumerate(tokenized_sent)]\n",
    "\n",
    "model = Doc2Vec(tagged_data, vector_size = 20, window = 2, min_count = 1, epochs = 100)"
   ]
  },
  {
   "cell_type": "code",
   "execution_count": null,
   "id": "057f9a2d-9d88-4ceb-b27e-890b3816a273",
   "metadata": {},
   "outputs": [],
   "source": [
    "df['description_tokenized'] = df.description.apply(lambda x: tokenize_sentence(x))\n",
    "df['description_vectorized'] = df.description_tokenized.apply(lambda x: vectorize(x))\n",
    "\n",
    "_t_df = df.description_vectorized.apply(pd.Series)\n",
    "\n",
    "_t_df = _t_df.rename(\n",
    "    columns={\n",
    "        i: f\"desc_{i}\" for i in range(20)\n",
    "    }\n",
    ")\n",
    "\n",
    "df = df.join(_t_df)\n",
    "df = df.drop(columns=['description_tokenized', 'description_vectorized', 'description'])"
   ]
  },
  {
   "cell_type": "code",
   "execution_count": 199,
   "id": "c8757337-ab71-4ba7-85c5-183035c28b5e",
   "metadata": {},
   "outputs": [
    {
     "data": {
      "text/plain": [
       "45834"
      ]
     },
     "execution_count": 199,
     "metadata": {},
     "output_type": "execute_result"
    }
   ],
   "source": [
    "df.dropna().__len__()"
   ]
  },
  {
   "cell_type": "code",
   "execution_count": 201,
   "id": "0dc3cf86-0258-415a-a22d-2afd4a91b643",
   "metadata": {},
   "outputs": [],
   "source": [
    "df.to_csv(\"train_clean.csv\")"
   ]
  },
  {
   "cell_type": "markdown",
   "id": "fcfc26c5-34c7-48a8-86c7-f867bed02ee8",
   "metadata": {},
   "source": [
    "https://stackoverflow.com/questions/44993240/how-to-use-the-infer-vector-in-gensim-doc2vec"
   ]
  }
 ],
 "metadata": {
  "kernelspec": {
   "display_name": "Python 3 (ipykernel)",
   "language": "python",
   "name": "python3"
  },
  "language_info": {
   "codemirror_mode": {
    "name": "ipython",
    "version": 3
   },
   "file_extension": ".py",
   "mimetype": "text/x-python",
   "name": "python",
   "nbconvert_exporter": "python",
   "pygments_lexer": "ipython3",
   "version": "3.9.6"
  }
 },
 "nbformat": 4,
 "nbformat_minor": 5
}

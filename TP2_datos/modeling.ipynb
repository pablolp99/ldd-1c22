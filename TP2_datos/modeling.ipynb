{
 "cells": [
  {
   "cell_type": "code",
   "execution_count": 2,
   "id": "fddcf29c-6109-4ce3-87e8-4e614b353f04",
   "metadata": {},
   "outputs": [],
   "source": [
    "import pandas as pd\n",
    "import numpy as np\n",
    "\n",
    "from sklearn.model_selection import train_test_split\n",
    "\n",
    "# df = pd.read_csv(\"train_clean.csv\").drop(columns=\"Unnamed: 0\")\n",
    "# y = df.severity\n",
    "# X = df.drop(columns='severity')\n",
    "# X_train, X_test, y_train, y_test = train_test_split(X, y)\n",
    "# print(f\"Train size: {len(y_train)} - Test size: {len(y_test)}\")"
   ]
  },
  {
   "cell_type": "code",
   "execution_count": 3,
   "id": "bbec0990-021f-440d-8a4f-3c420e14eaa3",
   "metadata": {},
   "outputs": [],
   "source": [
    "TO_DROP = [\n",
    "    'civil_twilight',    'nautical_twilight',\n",
    "    'astronomical_twilight',    'desc_0', \n",
    "    'desc_1',     'desc_2', \n",
    "    'desc_3',     'desc_4', \n",
    "    'desc_5',     'desc_6', \n",
    "    'desc_7',     'desc_8', \n",
    "    'desc_9',     'desc_10',\n",
    "    'desc_11',    'desc_12',    'desc_13',\n",
    "    'desc_14',    'desc_15',\n",
    "    'desc_16',    'desc_17',\n",
    "    'desc_19',    'end_lat', \n",
    "    'end_lng',    'end_month',\n",
    "    'end_day',\n",
    "]"
   ]
  },
  {
   "cell_type": "markdown",
   "id": "37cd1357-1d2a-4093-a5e1-4f0df2537123",
   "metadata": {},
   "source": [
    "df_train = pd.read_csv(\"train_clean_prep.csv\").drop(columns=\"Unnamed: 0\")\n",
    "df_test = pd.read_csv(\"test_clean_prep.csv\").drop(columns=\"Unnamed: 0\")\n",
    "\n",
    "df_train = df_train.drop(columns=TO_DROP)\n",
    "df_test = df_test.drop(columns=TO_DROP)\n",
    "\n",
    "X_train, y_train = df_train.drop(columns='severity'), df_train.severity\n",
    "X_test, y_test = df_test.drop(columns='severity'), df_test.severity"
   ]
  },
  {
   "cell_type": "code",
   "execution_count": 4,
   "id": "47452a76-9539-4d37-a727-9a13093f7dac",
   "metadata": {},
   "outputs": [],
   "source": [
    "df = pd.read_csv(\"train_pca.csv\").drop(columns=\"Unnamed: 0\")"
   ]
  },
  {
   "cell_type": "code",
   "execution_count": 5,
   "id": "f072502c-92a3-4b1f-b0fd-83cf2ade30e5",
   "metadata": {},
   "outputs": [],
   "source": [
    "X, y = df.drop(columns='severity'), df.severity"
   ]
  },
  {
   "cell_type": "markdown",
   "id": "7abb07d1-9518-43e4-ad32-da7b3340bca1",
   "metadata": {},
   "source": [
    "## Model Selection\n",
    "\n",
    "Models to test:\n",
    "- KNN\n",
    "- SVC (RBF)\n",
    "- Random Forest\n",
    "- Naive bayes\n",
    "- XGBClassifier"
   ]
  },
  {
   "cell_type": "code",
   "execution_count": 6,
   "id": "a8815b05-ca92-4530-8d21-c06076b48ff6",
   "metadata": {},
   "outputs": [],
   "source": [
    "import matplotlib.pyplot as plt\n",
    "\n",
    "from sklearn.metrics import classification_report, roc_curve, auc\n",
    "from sklearn.model_selection import GridSearchCV, cross_val_score\n",
    "\n",
    "from sklearn.neighbors import KNeighborsClassifier\n",
    "from sklearn.svm import SVC\n",
    "from sklearn.ensemble import RandomForestClassifier\n",
    "from sklearn.naive_bayes import GaussianNB\n",
    "\n",
    "from xgboost import XGBClassifier"
   ]
  },
  {
   "cell_type": "code",
   "execution_count": 10,
   "id": "032ff937-3ce5-41d8-ad39-cd6212ffe2a7",
   "metadata": {},
   "outputs": [],
   "source": [
    "X_train, X_test, y_train, y_test = train_test_split(X, y)"
   ]
  },
  {
   "cell_type": "markdown",
   "id": "8ca54790-e942-46c3-9cfd-544e89416ae9",
   "metadata": {},
   "source": [
    "### First runs"
   ]
  },
  {
   "cell_type": "code",
   "execution_count": 11,
   "id": "0de616bc-c776-4997-99d0-1dee5f6b4b95",
   "metadata": {},
   "outputs": [],
   "source": [
    "knn = KNeighborsClassifier(10)"
   ]
  },
  {
   "cell_type": "code",
   "execution_count": 12,
   "id": "6ccf8d5f-e553-4d66-a13d-18026b5e942d",
   "metadata": {},
   "outputs": [
    {
     "data": {
      "text/plain": [
       "KNeighborsClassifier(n_neighbors=10)"
      ]
     },
     "execution_count": 12,
     "metadata": {},
     "output_type": "execute_result"
    }
   ],
   "source": [
    "knn.fit(X_train, y_train)"
   ]
  },
  {
   "cell_type": "code",
   "execution_count": 13,
   "id": "73a0ffbe-b6a2-4496-a761-7cb5bbf640dd",
   "metadata": {},
   "outputs": [],
   "source": [
    "y_pred = knn.predict(X_test)\n",
    "y_scores = knn.predict_proba(X_test)"
   ]
  },
  {
   "cell_type": "code",
   "execution_count": 14,
   "id": "e00a7646-464f-4d76-a14e-f474b8e94dc6",
   "metadata": {},
   "outputs": [],
   "source": [
    "fpr, tpr, threshold = roc_curve(y_test, y_scores[:, 1])\n",
    "roc_auc = auc(fpr, tpr)"
   ]
  },
  {
   "cell_type": "code",
   "execution_count": 15,
   "id": "ff33c267-101b-4a7a-a8cf-47a27d732eb9",
   "metadata": {},
   "outputs": [
    {
     "data": {
      "image/png": "[encoded data removed]",
      "text/plain": [
       "<Figure size 432x288 with 1 Axes>"
      ]
     },
     "metadata": {
      "needs_background": "light"
     },
     "output_type": "display_data"
    }
   ],
   "source": [
    "# plt.title('Receiver Operating Characteristic')\n",
    "plt.plot(fpr, tpr, 'b', label = 'AUC = %0.4f' % roc_auc)\n",
    "plt.legend(loc = 'lower right')\n",
    "plt.plot([0, 1], [0, 1],'r--')\n",
    "plt.xlim([0, 1])\n",
    "plt.ylim([0, 1])\n",
    "plt.ylabel('True Positive Rate')\n",
    "plt.xlabel('False Positive Rate')\n",
    "plt.title('ROC Curve of kNN')\n",
    "plt.show()"
   ]
  },
  {
   "cell_type": "code",
   "execution_count": 17,
   "id": "d98f65ea-f74e-4f8d-9de9-0e05beccd4b5",
   "metadata": {},
   "outputs": [
    {
     "name": "stdout",
     "output_type": "stream",
     "text": [
      "              precision    recall  f1-score   support\n",
      "\n",
      "           0       0.75      0.85      0.80      7025\n",
      "           1       0.70      0.54      0.61      4434\n",
      "\n",
      "    accuracy                           0.73     11459\n",
      "   macro avg       0.72      0.70      0.70     11459\n",
      "weighted avg       0.73      0.73      0.73     11459\n",
      "\n"
     ]
    }
   ],
   "source": [
    "print(classification_report(y_test, y_pred))"
   ]
  },
  {
   "cell_type": "code",
   "execution_count": 18,
   "id": "c015bd31-6cf8-43b7-a44b-c4d99bce6fa7",
   "metadata": {},
   "outputs": [
    {
     "data": {
      "text/plain": [
       "XGBClassifier(base_score=0.5, booster='gbtree', callbacks=None,\n",
       "              colsample_bylevel=1, colsample_bynode=1, colsample_bytree=1,\n",
       "              early_stopping_rounds=None, enable_categorical=False,\n",
       "              eval_metric=None, gamma=0, gpu_id=-1, grow_policy='depthwise',\n",
       "              importance_type=None, interaction_constraints='',\n",
       "              learning_rate=0.300000012, max_bin=256, max_cat_to_onehot=4,\n",
       "              max_delta_step=0, max_depth=6, max_leaves=0, min_child_weight=1,\n",
       "              missing=nan, monotone_constraints='()', n_estimators=600,\n",
       "              n_jobs=-1, num_parallel_tree=1, predictor='auto', random_state=0,\n",
       "              reg_alpha=0, reg_lambda=1, ...)"
      ]
     },
     "execution_count": 18,
     "metadata": {},
     "output_type": "execute_result"
    }
   ],
   "source": [
    "# xgb_bm = XGBClassifier(n_estimators=200, n_jobs=-1)\n",
    "# xgb_bm = XGBClassifier(n_estimators=400, n_jobs=-1)\n",
    "xgb_bm = XGBClassifier(n_estimators=600, n_jobs=-1)\n",
    "xgb_bm.fit(X_train, y_train)"
   ]
  },
  {
   "cell_type": "code",
   "execution_count": 19,
   "id": "810aced0-afe3-4bd2-8258-6e61dc59e4b8",
   "metadata": {},
   "outputs": [],
   "source": [
    "xgb_pred = xgb_bm.predict(X_test)\n",
    "xgb_scores = xgb_bm.predict_proba(X_test)"
   ]
  },
  {
   "cell_type": "code",
   "execution_count": 20,
   "id": "fb9f09aa-12ff-443c-9fb3-6145b4ce8334",
   "metadata": {},
   "outputs": [
    {
     "data": {
      "image/png": "[encoded data removed]",
      "text/plain": [
       "<Figure size 432x288 with 1 Axes>"
      ]
     },
     "metadata": {
      "needs_background": "light"
     },
     "output_type": "display_data"
    }
   ],
   "source": [
    "fpr, tpr, threshold = roc_curve(y_test, xgb_scores[:, 1])\n",
    "roc_auc = auc(fpr, tpr)\n",
    "\n",
    "# plt.title('Receiver Operating Characteristic')\n",
    "plt.plot(fpr, tpr, 'b', label = 'AUC = %0.4f' % roc_auc)\n",
    "plt.legend(loc = 'lower right')\n",
    "plt.plot([0, 1], [0, 1],'r--')\n",
    "plt.xlim([0, 1])\n",
    "plt.ylim([0, 1])\n",
    "plt.ylabel('True Positive Rate')\n",
    "plt.xlabel('False Positive Rate')\n",
    "plt.title('ROC Curve of XGBoost')\n",
    "plt.show()"
   ]
  },
  {
   "cell_type": "code",
   "execution_count": 21,
   "id": "6a40c6ea-390b-466e-bac2-12699b05ce2e",
   "metadata": {},
   "outputs": [
    {
     "name": "stdout",
     "output_type": "stream",
     "text": [
      "              precision    recall  f1-score   support\n",
      "\n",
      "           0       0.88      0.89      0.89      7025\n",
      "           1       0.83      0.81      0.82      4434\n",
      "\n",
      "    accuracy                           0.86     11459\n",
      "   macro avg       0.86      0.85      0.85     11459\n",
      "weighted avg       0.86      0.86      0.86     11459\n",
      "\n"
     ]
    }
   ],
   "source": [
    "print(classification_report(y_test, xgb_pred))"
   ]
  },
  {
   "cell_type": "markdown",
   "id": "b0365e3b-b751-4d07-aa68-ddd6339efe9e",
   "metadata": {},
   "source": [
    "xgb_bm.save_model(f\"xgboost_model_{hash(xgb_bm)}_9257\")"
   ]
  },
  {
   "cell_type": "code",
   "execution_count": null,
   "id": "ae214ce2-016c-463e-93fb-236be6dc278f",
   "metadata": {
    "tags": []
   },
   "outputs": [],
   "source": [
    "### Cross-validation & Grid Search\n",
    "\n",
    "knn_cv = KNeighborsClassifier()\n",
    "\n",
    "param_grid = {'n_neighbors': range(5, 22, 2)}\n",
    "\n",
    "knn_gscv = GridSearchCV(knn_cv, param_grid, cv=15, verbose=2)\n",
    "\n",
    "#fit model to data\n",
    "knn_gscv.fit(X_train, y_train)\n",
    "\n",
    "#check top performing n_neighbors value\n",
    "knn_gscv.best_params_\n",
    "\n",
    "knn_gscv.best_score_\n",
    "\n",
    "bknn = knn_gscv.best_estimator_\n",
    "\n",
    "y_pred_cv = bknn.predict(X_test)\n",
    "y_score_cv = bknn.predict_proba(X_test)\n",
    "\n",
    "fpr, tpr, threshold = roc_curve(y_test, y_score_cv[:, 1])\n",
    "roc_auc = auc(fpr, tpr)\n",
    "\n",
    "# plt.title('Receiver Operating Characteristic')\n",
    "plt.plot(fpr, tpr, 'b', label = 'AUC = %0.4f' % roc_auc)\n",
    "plt.legend(loc = 'lower right')\n",
    "plt.plot([0, 1], [0, 1],'r--')\n",
    "plt.xlim([0, 1])\n",
    "plt.ylim([0, 1])\n",
    "plt.ylabel('True Positive Rate')\n",
    "plt.xlabel('False Positive Rate')\n",
    "plt.title('ROC Curve of kNN')\n",
    "plt.show()\n",
    "\n",
    "print(classification_report(y_test, y_pred_cv))\n",
    "\n",
    "### Other Models\n",
    "\n",
    "classifiers = {\n",
    "    \"knn\": KNeighborsClassifier(),\n",
    "    \"svc\": SVC(),\n",
    "    \"r_forest\": RandomForestClassifier(),\n",
    "    \"naive_bayes\": GaussianNB(),\n",
    "    \"xgbc\": XGBClassifier,\n",
    "}\n",
    "\n",
    "grids = {\n",
    "    \"knn\": {\n",
    "        \"n_neighbors\": range(4,21,2),\n",
    "    },\n",
    "    \"svc\": {\n",
    "        \"C\": [1, 2],\n",
    "        \"kernel\": ['rbf', 'sigmoid'],\n",
    "        \"class_weight\": [None, \"balanced\"],\n",
    "    },\n",
    "    \"r_forest\": {\n",
    "        \"n_estimators\": [100, 200, 400, 600, 1000, 1400, 1800, 2400],\n",
    "        \"n_jobs\": [-1]\n",
    "    },\n",
    "    \"xgbc\": {\n",
    "        \"n_estimators\": [100, 400, 600, 1400],\n",
    "    }\n",
    "}\n",
    "\n",
    "svc = GridSearchCV(classifiers['svc'], grids['svc'], cv=15, verbose=2)\n",
    "\n",
    "xgb = classifiers[\"xgbc\"](n_jobs=-1)\n",
    "\n",
    "xgb\n",
    "\n",
    "xgb_cv = GridSearchCV(xgb, grids[\"xgbc\"], cv=15, verbose=2)\n",
    "\n",
    "xgb_cv.fit(X_train, y_train)\n",
    "\n",
    "#check top performing n_neighbors value\n",
    "xgb_cv.best_params_\n",
    "\n",
    "xgb_cv.best_score_\n",
    "\n",
    "xgb_bm = xgb_cv.best_estimator_"
   ]
  }
 ],
 "metadata": {
  "kernelspec": {
   "display_name": "Python 3 (ipykernel)",
   "language": "python",
   "name": "python3"
  },
  "language_info": {
   "codemirror_mode": {
    "name": "ipython",
    "version": 3
   },
   "file_extension": ".py",
   "mimetype": "text/x-python",
   "name": "python",
   "nbconvert_exporter": "python",
   "pygments_lexer": "ipython3",
   "version": "3.9.6"
  }
 },
 "nbformat": 4,
 "nbformat_minor": 5
}

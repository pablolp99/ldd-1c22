{
 "cells": [
  {
   "cell_type": "code",
   "execution_count": 2,
   "id": "fddcf29c-6109-4ce3-87e8-4e614b353f04",
   "metadata": {},
   "outputs": [
    {
     "name": "stdout",
     "output_type": "stream",
     "text": [
      "Train size: 34375 - Test size: 11459\n"
     ]
    }
   ],
   "source": [
    "import pandas as pd\n",
    "\n",
    "from sklearn.model_selection import train_test_split\n",
    "\n",
    "df = pd.read_csv(\"train_clean.csv\").drop(columns=\"Unnamed: 0\")\n",
    "\n",
    "y = df.severity\n",
    "X = df.drop(columns='severity')\n",
    "\n",
    "X_train, X_test, y_train, y_test = train_test_split(X, y)\n",
    "\n",
    "print(f\"Train size: {len(y_train)} - Test size: {len(y_test)}\")"
   ]
  },
  {
   "cell_type": "markdown",
   "id": "76440ae7-2086-4ee8-9f8b-763719323d4a",
   "metadata": {},
   "source": [
    "## Model Selection"
   ]
  },
  {
   "cell_type": "markdown",
   "id": "a2cc78da-a251-49da-aaf7-1f683064f589",
   "metadata": {},
   "source": [
    "Models to test:\n",
    "- KNN\n",
    "- SVC (RBF)\n",
    "- Random Forest\n",
    "- Naive bayes\n",
    "- XGBClassifier"
   ]
  },
  {
   "cell_type": "code",
   "execution_count": 3,
   "id": "a8815b05-ca92-4530-8d21-c06076b48ff6",
   "metadata": {},
   "outputs": [],
   "source": [
    "import matplotlib.pyplot as plt\n",
    "\n",
    "from sklearn.metrics import classification_report, roc_curve, auc\n",
    "from sklearn.model_selection import GridSearchCV, cross_val_score\n",
    "\n",
    "from sklearn.neighbors import KNeighborsClassifier\n",
    "from sklearn.svm import SVC\n",
    "from sklearn.ensemble import RandomForestClassifier\n",
    "from sklearn.naive_bayes import GaussianNB\n",
    "\n",
    "from xgboost import XGBClassifier"
   ]
  },
  {
   "cell_type": "markdown",
   "id": "8ca54790-e942-46c3-9cfd-544e89416ae9",
   "metadata": {},
   "source": [
    "### First runs"
   ]
  },
  {
   "cell_type": "code",
   "execution_count": 3,
   "id": "0de616bc-c776-4997-99d0-1dee5f6b4b95",
   "metadata": {},
   "outputs": [],
   "source": [
    "knn = KNeighborsClassifier(10)"
   ]
  },
  {
   "cell_type": "code",
   "execution_count": 4,
   "id": "6ccf8d5f-e553-4d66-a13d-18026b5e942d",
   "metadata": {},
   "outputs": [
    {
     "data": {
      "text/plain": [
       "KNeighborsClassifier(n_neighbors=10)"
      ]
     },
     "execution_count": 4,
     "metadata": {},
     "output_type": "execute_result"
    }
   ],
   "source": [
    "knn.fit(X_train, y_train)"
   ]
  },
  {
   "cell_type": "code",
   "execution_count": 5,
   "id": "73a0ffbe-b6a2-4496-a761-7cb5bbf640dd",
   "metadata": {},
   "outputs": [],
   "source": [
    "y_pred = knn.predict(X_test)\n",
    "y_scores = knn.predict_proba(X_test)"
   ]
  },
  {
   "cell_type": "code",
   "execution_count": 6,
   "id": "e00a7646-464f-4d76-a14e-f474b8e94dc6",
   "metadata": {},
   "outputs": [],
   "source": [
    "fpr, tpr, threshold = roc_curve(y_test, y_scores[:, 1])\n",
    "roc_auc = auc(fpr, tpr)"
   ]
  },
  {
   "cell_type": "code",
   "execution_count": 7,
   "id": "ff33c267-101b-4a7a-a8cf-47a27d732eb9",
   "metadata": {},
   "outputs": [
    {
     "data": {
      "image/png": "[encoded data removed]",
      "text/plain": [
       "<Figure size 432x288 with 1 Axes>"
      ]
     },
     "metadata": {
      "needs_background": "light"
     },
     "output_type": "display_data"
    }
   ],
   "source": [
    "# plt.title('Receiver Operating Characteristic')\n",
    "plt.plot(fpr, tpr, 'b', label = 'AUC = %0.2f' % roc_auc)\n",
    "plt.legend(loc = 'lower right')\n",
    "plt.plot([0, 1], [0, 1],'r--')\n",
    "plt.xlim([0, 1])\n",
    "plt.ylim([0, 1])\n",
    "plt.ylabel('True Positive Rate')\n",
    "plt.xlabel('False Positive Rate')\n",
    "plt.title('ROC Curve of kNN')\n",
    "plt.show()"
   ]
  },
  {
   "cell_type": "code",
   "execution_count": 8,
   "id": "d98f65ea-f74e-4f8d-9de9-0e05beccd4b5",
   "metadata": {},
   "outputs": [
    {
     "name": "stdout",
     "output_type": "stream",
     "text": [
      "              precision    recall  f1-score   support\n",
      "\n",
      "           0       0.97      0.96      0.96      7035\n",
      "           1       0.93      0.95      0.94      4424\n",
      "\n",
      "    accuracy                           0.96     11459\n",
      "   macro avg       0.95      0.96      0.95     11459\n",
      "weighted avg       0.96      0.96      0.96     11459\n",
      "\n"
     ]
    }
   ],
   "source": [
    "print(classification_report(y_test, y_pred))"
   ]
  },
  {
   "cell_type": "markdown",
   "id": "3b92aa18-9df4-4045-a031-a9b385ee029b",
   "metadata": {},
   "source": [
    "### Cross-validation & Grid Search"
   ]
  },
  {
   "cell_type": "code",
   "execution_count": 13,
   "id": "d74c5407-d71b-4c60-a638-2a716329a0e9",
   "metadata": {},
   "outputs": [],
   "source": [
    "knn_cv = KNeighborsClassifier()\n",
    "\n",
    "param_grid = {'n_neighbors': range(5, 22, 2)}"
   ]
  },
  {
   "cell_type": "code",
   "execution_count": 14,
   "id": "716296cf-3df1-4199-bd5d-f712f1a91da0",
   "metadata": {},
   "outputs": [],
   "source": [
    "knn_gscv = GridSearchCV(knn_cv, param_grid, cv=15, verbose=2)"
   ]
  },
  {
   "cell_type": "code",
   "execution_count": 15,
   "id": "14f60a26-79ec-4406-ac95-45f3b2edba7e",
   "metadata": {
    "tags": []
   },
   "outputs": [
    {
     "name": "stdout",
     "output_type": "stream",
     "text": [
      "Fitting 15 folds for each of 9 candidates, totalling 135 fits\n",
      "[CV] END ......................................n_neighbors=5; total time=   1.2s\n",
      "[CV] END ......................................n_neighbors=5; total time=   1.2s\n",
      "[CV] END ......................................n_neighbors=5; total time=   1.2s\n",
      "[CV] END ......................................n_neighbors=5; total time=   1.2s\n",
      "[CV] END ......................................n_neighbors=5; total time=   1.3s\n",
      "[CV] END ......................................n_neighbors=5; total time=   1.2s\n",
      "[CV] END ......................................n_neighbors=5; total time=   1.2s\n",
      "[CV] END ......................................n_neighbors=5; total time=   1.2s\n",
      "[CV] END ......................................n_neighbors=5; total time=   1.1s\n",
      "[CV] END ......................................n_neighbors=5; total time=   1.1s\n",
      "[CV] END ......................................n_neighbors=5; total time=   1.1s\n",
      "[CV] END ......................................n_neighbors=5; total time=   1.1s\n",
      "[CV] END ......................................n_neighbors=5; total time=   1.2s\n",
      "[CV] END ......................................n_neighbors=5; total time=   1.2s\n",
      "[CV] END ......................................n_neighbors=5; total time=   1.2s\n",
      "[CV] END ......................................n_neighbors=7; total time=   1.1s\n",
      "[CV] END ......................................n_neighbors=7; total time=   1.2s\n",
      "[CV] END ......................................n_neighbors=7; total time=   1.1s\n",
      "[CV] END ......................................n_neighbors=7; total time=   1.2s\n",
      "[CV] END ......................................n_neighbors=7; total time=   1.2s\n",
      "[CV] END ......................................n_neighbors=7; total time=   1.2s\n",
      "[CV] END ......................................n_neighbors=7; total time=   1.2s\n",
      "[CV] END ......................................n_neighbors=7; total time=   1.2s\n",
      "[CV] END ......................................n_neighbors=7; total time=   1.2s\n",
      "[CV] END ......................................n_neighbors=7; total time=   1.2s\n",
      "[CV] END ......................................n_neighbors=7; total time=   1.2s\n",
      "[CV] END ......................................n_neighbors=7; total time=   1.2s\n",
      "[CV] END ......................................n_neighbors=7; total time=   1.1s\n",
      "[CV] END ......................................n_neighbors=7; total time=   1.1s\n",
      "[CV] END ......................................n_neighbors=7; total time=   1.1s\n",
      "[CV] END ......................................n_neighbors=9; total time=   1.1s\n",
      "[CV] END ......................................n_neighbors=9; total time=   1.2s\n",
      "[CV] END ......................................n_neighbors=9; total time=   1.2s\n",
      "[CV] END ......................................n_neighbors=9; total time=   1.2s\n",
      "[CV] END ......................................n_neighbors=9; total time=   1.2s\n",
      "[CV] END ......................................n_neighbors=9; total time=   1.2s\n",
      "[CV] END ......................................n_neighbors=9; total time=   1.2s\n",
      "[CV] END ......................................n_neighbors=9; total time=   1.1s\n",
      "[CV] END ......................................n_neighbors=9; total time=   1.1s\n",
      "[CV] END ......................................n_neighbors=9; total time=   1.2s\n",
      "[CV] END ......................................n_neighbors=9; total time=   1.2s\n",
      "[CV] END ......................................n_neighbors=9; total time=   1.1s\n",
      "[CV] END ......................................n_neighbors=9; total time=   1.2s\n",
      "[CV] END ......................................n_neighbors=9; total time=   1.2s\n",
      "[CV] END ......................................n_neighbors=9; total time=   1.1s\n",
      "[CV] END .....................................n_neighbors=11; total time=   1.1s\n",
      "[CV] END .....................................n_neighbors=11; total time=   1.2s\n",
      "[CV] END .....................................n_neighbors=11; total time=   1.1s\n",
      "[CV] END .....................................n_neighbors=11; total time=   1.2s\n",
      "[CV] END .....................................n_neighbors=11; total time=   1.2s\n",
      "[CV] END .....................................n_neighbors=11; total time=   1.3s\n",
      "[CV] END .....................................n_neighbors=11; total time=   1.2s\n",
      "[CV] END .....................................n_neighbors=11; total time=   1.2s\n",
      "[CV] END .....................................n_neighbors=11; total time=   1.1s\n",
      "[CV] END .....................................n_neighbors=11; total time=   1.1s\n",
      "[CV] END .....................................n_neighbors=11; total time=   1.1s\n",
      "[CV] END .....................................n_neighbors=11; total time=   1.1s\n",
      "[CV] END .....................................n_neighbors=11; total time=   1.1s\n",
      "[CV] END .....................................n_neighbors=11; total time=   1.2s\n",
      "[CV] END .....................................n_neighbors=11; total time=   1.0s\n",
      "[CV] END .....................................n_neighbors=13; total time=   1.1s\n",
      "[CV] END .....................................n_neighbors=13; total time=   1.2s\n",
      "[CV] END .....................................n_neighbors=13; total time=   1.3s\n",
      "[CV] END .....................................n_neighbors=13; total time=   1.2s\n",
      "[CV] END .....................................n_neighbors=13; total time=   1.2s\n",
      "[CV] END .....................................n_neighbors=13; total time=   1.2s\n",
      "[CV] END .....................................n_neighbors=13; total time=   1.2s\n",
      "[CV] END .....................................n_neighbors=13; total time=   1.1s\n",
      "[CV] END .....................................n_neighbors=13; total time=   1.1s\n",
      "[CV] END .....................................n_neighbors=13; total time=   1.2s\n",
      "[CV] END .....................................n_neighbors=13; total time=   1.1s\n",
      "[CV] END .....................................n_neighbors=13; total time=   1.1s\n",
      "[CV] END .....................................n_neighbors=13; total time=   1.2s\n",
      "[CV] END .....................................n_neighbors=13; total time=   1.2s\n",
      "[CV] END .....................................n_neighbors=13; total time=   1.1s\n",
      "[CV] END .....................................n_neighbors=15; total time=   1.2s\n",
      "[CV] END .....................................n_neighbors=15; total time=   1.2s\n",
      "[CV] END .....................................n_neighbors=15; total time=   1.2s\n",
      "[CV] END .....................................n_neighbors=15; total time=   1.2s\n",
      "[CV] END .....................................n_neighbors=15; total time=   1.2s\n",
      "[CV] END .....................................n_neighbors=15; total time=   1.2s\n",
      "[CV] END .....................................n_neighbors=15; total time=   1.4s\n",
      "[CV] END .....................................n_neighbors=15; total time=   1.2s\n",
      "[CV] END .....................................n_neighbors=15; total time=   1.2s\n",
      "[CV] END .....................................n_neighbors=15; total time=   1.2s\n",
      "[CV] END .....................................n_neighbors=15; total time=   1.1s\n",
      "[CV] END .....................................n_neighbors=15; total time=   1.2s\n",
      "[CV] END .....................................n_neighbors=15; total time=   1.2s\n",
      "[CV] END .....................................n_neighbors=15; total time=   1.1s\n",
      "[CV] END .....................................n_neighbors=15; total time=   1.2s\n",
      "[CV] END .....................................n_neighbors=17; total time=   1.2s\n",
      "[CV] END .....................................n_neighbors=17; total time=   1.3s\n",
      "[CV] END .....................................n_neighbors=17; total time=   1.2s\n",
      "[CV] END .....................................n_neighbors=17; total time=   1.2s\n",
      "[CV] END .....................................n_neighbors=17; total time=   1.2s\n",
      "[CV] END .....................................n_neighbors=17; total time=   1.2s\n",
      "[CV] END .....................................n_neighbors=17; total time=   1.1s\n",
      "[CV] END .....................................n_neighbors=17; total time=   1.2s\n",
      "[CV] END .....................................n_neighbors=17; total time=   1.1s\n",
      "[CV] END .....................................n_neighbors=17; total time=   1.2s\n",
      "[CV] END .....................................n_neighbors=17; total time=   1.1s\n",
      "[CV] END .....................................n_neighbors=17; total time=   1.1s\n",
      "[CV] END .....................................n_neighbors=17; total time=   1.3s\n",
      "[CV] END .....................................n_neighbors=17; total time=   1.1s\n",
      "[CV] END .....................................n_neighbors=17; total time=   1.1s\n",
      "[CV] END .....................................n_neighbors=19; total time=   1.1s\n",
      "[CV] END .....................................n_neighbors=19; total time=   1.2s\n",
      "[CV] END .....................................n_neighbors=19; total time=   1.2s\n",
      "[CV] END .....................................n_neighbors=19; total time=   1.2s\n",
      "[CV] END .....................................n_neighbors=19; total time=   1.5s\n",
      "[CV] END .....................................n_neighbors=19; total time=   1.3s\n",
      "[CV] END .....................................n_neighbors=19; total time=   1.2s\n",
      "[CV] END .....................................n_neighbors=19; total time=   1.3s\n",
      "[CV] END .....................................n_neighbors=19; total time=   1.4s\n",
      "[CV] END .....................................n_neighbors=19; total time=   1.3s\n",
      "[CV] END .....................................n_neighbors=19; total time=   1.1s\n",
      "[CV] END .....................................n_neighbors=19; total time=   1.2s\n",
      "[CV] END .....................................n_neighbors=19; total time=   1.4s\n",
      "[CV] END .....................................n_neighbors=19; total time=   1.5s\n",
      "[CV] END .....................................n_neighbors=19; total time=   1.3s\n",
      "[CV] END .....................................n_neighbors=21; total time=   1.4s\n",
      "[CV] END .....................................n_neighbors=21; total time=   1.3s\n",
      "[CV] END .....................................n_neighbors=21; total time=   1.4s\n",
      "[CV] END .....................................n_neighbors=21; total time=   1.2s\n",
      "[CV] END .....................................n_neighbors=21; total time=   1.2s\n",
      "[CV] END .....................................n_neighbors=21; total time=   1.2s\n",
      "[CV] END .....................................n_neighbors=21; total time=   1.2s\n",
      "[CV] END .....................................n_neighbors=21; total time=   1.4s\n",
      "[CV] END .....................................n_neighbors=21; total time=   1.5s\n",
      "[CV] END .....................................n_neighbors=21; total time=   1.2s\n",
      "[CV] END .....................................n_neighbors=21; total time=   1.3s\n",
      "[CV] END .....................................n_neighbors=21; total time=   1.3s\n",
      "[CV] END .....................................n_neighbors=21; total time=   1.2s\n",
      "[CV] END .....................................n_neighbors=21; total time=   1.1s\n",
      "[CV] END .....................................n_neighbors=21; total time=   1.2s\n"
     ]
    },
    {
     "data": {
      "text/plain": [
       "GridSearchCV(cv=15, estimator=KNeighborsClassifier(),\n",
       "             param_grid={'n_neighbors': range(5, 22, 2)}, verbose=2)"
      ]
     },
     "execution_count": 15,
     "metadata": {},
     "output_type": "execute_result"
    }
   ],
   "source": [
    "#fit model to data\n",
    "knn_gscv.fit(X_train, y_train)"
   ]
  },
  {
   "cell_type": "code",
   "execution_count": 16,
   "id": "be5f0fda-f0f7-4f9f-93d0-783a87931b70",
   "metadata": {},
   "outputs": [
    {
     "data": {
      "text/plain": [
       "{'n_neighbors': 5}"
      ]
     },
     "execution_count": 16,
     "metadata": {},
     "output_type": "execute_result"
    }
   ],
   "source": [
    "#check top performing n_neighbors value\n",
    "knn_gscv.best_params_"
   ]
  },
  {
   "cell_type": "code",
   "execution_count": 17,
   "id": "a5a61f5b-dd85-42a6-876e-7373a6ac494a",
   "metadata": {},
   "outputs": [
    {
     "data": {
      "text/plain": [
       "0.9586324081205029"
      ]
     },
     "execution_count": 17,
     "metadata": {},
     "output_type": "execute_result"
    }
   ],
   "source": [
    "knn_gscv.best_score_"
   ]
  },
  {
   "cell_type": "code",
   "execution_count": 18,
   "id": "ef10432f-498c-4b4b-b002-7e84319422ad",
   "metadata": {},
   "outputs": [],
   "source": [
    "bknn = knn_gscv.best_estimator_"
   ]
  },
  {
   "cell_type": "code",
   "execution_count": 19,
   "id": "82637b93-8493-44d7-84c1-21c6820ee6ef",
   "metadata": {},
   "outputs": [],
   "source": [
    "y_pred_cv = bknn.predict(X_test)\n",
    "y_score_cv = bknn.predict_proba(X_test)"
   ]
  },
  {
   "cell_type": "code",
   "execution_count": 22,
   "id": "518be941-6605-4ddb-a346-51a6fdf9d216",
   "metadata": {},
   "outputs": [
    {
     "data": {
      "image/png": "[encoded data removed]",
      "text/plain": [
       "<Figure size 432x288 with 1 Axes>"
      ]
     },
     "metadata": {
      "needs_background": "light"
     },
     "output_type": "display_data"
    }
   ],
   "source": [
    "fpr, tpr, threshold = roc_curve(y_test, y_score_cv[:, 1])\n",
    "roc_auc = auc(fpr, tpr)\n",
    "\n",
    "# plt.title('Receiver Operating Characteristic')\n",
    "plt.plot(fpr, tpr, 'b', label = 'AUC = %0.4f' % roc_auc)\n",
    "plt.legend(loc = 'lower right')\n",
    "plt.plot([0, 1], [0, 1],'r--')\n",
    "plt.xlim([0, 1])\n",
    "plt.ylim([0, 1])\n",
    "plt.ylabel('True Positive Rate')\n",
    "plt.xlabel('False Positive Rate')\n",
    "plt.title('ROC Curve of kNN')\n",
    "plt.show()"
   ]
  },
  {
   "cell_type": "code",
   "execution_count": 21,
   "id": "0a68d620-c3dd-4bc2-ac12-f9a3007af143",
   "metadata": {},
   "outputs": [
    {
     "name": "stdout",
     "output_type": "stream",
     "text": [
      "              precision    recall  f1-score   support\n",
      "\n",
      "           0       0.98      0.96      0.97      7074\n",
      "           1       0.93      0.96      0.95      4385\n",
      "\n",
      "    accuracy                           0.96     11459\n",
      "   macro avg       0.96      0.96      0.96     11459\n",
      "weighted avg       0.96      0.96      0.96     11459\n",
      "\n"
     ]
    }
   ],
   "source": [
    "print(classification_report(y_test, y_pred_cv))"
   ]
  },
  {
   "cell_type": "markdown",
   "id": "84569bdc-f969-429e-a079-50b1ff9eb752",
   "metadata": {},
   "source": [
    "### Other Models"
   ]
  },
  {
   "cell_type": "code",
   "execution_count": 24,
   "id": "8558682f-393f-4325-863d-9137d7159f84",
   "metadata": {},
   "outputs": [],
   "source": [
    "classifiers = {\n",
    "    \"knn\": KNeighborsClassifier(),\n",
    "    \"svc\": SVC(),\n",
    "    \"r_forest\": RandomForestClassifier(),\n",
    "    \"naive_bayes\": GaussianNB(),\n",
    "    \"xgbc\": XGBClassifier,\n",
    "}"
   ]
  },
  {
   "cell_type": "code",
   "execution_count": 25,
   "id": "722cf420-a365-49ee-a947-3b391d8eb64b",
   "metadata": {},
   "outputs": [],
   "source": [
    "grids = {\n",
    "    \"knn\": {\n",
    "        \"n_neighbors\": range(4,21,2),\n",
    "    },\n",
    "    \"svc\": {\n",
    "        \"C\": [1, 2],\n",
    "        \"kernel\": ['rbf', 'sigmoid'],\n",
    "        \"class_weight\": [None, \"balanced\"],\n",
    "    },\n",
    "    \"r_forest\": {\n",
    "        \"n_estimators\": [100, 200, 400, 600, 1000, 1400, 1800, 2400],\n",
    "        \"n_jobs\": [-1]\n",
    "    },\n",
    "    \"xgbc\": {\n",
    "        \"n_estimators\": [100, 200, 400, 600, 1000, 1400, 1800, 2400],\n",
    "        \"n_jobs\": [-1]\n",
    "    }\n",
    "}"
   ]
  },
  {
   "cell_type": "code",
   "execution_count": 26,
   "id": "d4c58447-a111-4f8c-80cd-4ab5f7d93fe5",
   "metadata": {},
   "outputs": [],
   "source": [
    "svc = GridSearchCV(classifiers['svc'], grids['svc'], cv=15, verbose=2)"
   ]
  },
  {
   "cell_type": "code",
   "execution_count": 27,
   "id": "2a27d075-8768-429a-876c-bde56a376577",
   "metadata": {},
   "outputs": [],
   "source": [
    "xgb = classifiers[\"xgbc\"](n_jobs=-1)"
   ]
  },
  {
   "cell_type": "code",
   "execution_count": 28,
   "id": "1e9006c4-1555-46b5-b5ba-c965f04e3226",
   "metadata": {},
   "outputs": [
    {
     "data": {
      "text/plain": [
       "XGBClassifier(base_score=None, booster=None, callbacks=None,\n",
       "              colsample_bylevel=None, colsample_bynode=None,\n",
       "              colsample_bytree=None, early_stopping_rounds=None,\n",
       "              enable_categorical=False, eval_metric=None, gamma=None,\n",
       "              gpu_id=None, grow_policy=None, importance_type=None,\n",
       "              interaction_constraints=None, learning_rate=None, max_bin=None,\n",
       "              max_cat_to_onehot=None, max_delta_step=None, max_depth=None,\n",
       "              max_leaves=None, min_child_weight=None, missing=nan,\n",
       "              monotone_constraints=None, n_estimators=100, n_jobs=-1,\n",
       "              num_parallel_tree=None, predictor=None, random_state=None,\n",
       "              reg_alpha=None, reg_lambda=None, ...)"
      ]
     },
     "execution_count": 28,
     "metadata": {},
     "output_type": "execute_result"
    }
   ],
   "source": [
    "xgb"
   ]
  },
  {
   "cell_type": "code",
   "execution_count": 29,
   "id": "48a895f1-4ba2-454c-9b07-4ed92b989029",
   "metadata": {},
   "outputs": [
    {
     "data": {
      "text/plain": [
       "XGBClassifier(base_score=0.5, booster='gbtree', callbacks=None,\n",
       "              colsample_bylevel=1, colsample_bynode=1, colsample_bytree=1,\n",
       "              early_stopping_rounds=None, enable_categorical=False,\n",
       "              eval_metric=None, gamma=0, gpu_id=-1, grow_policy='depthwise',\n",
       "              importance_type=None, interaction_constraints='',\n",
       "              learning_rate=0.300000012, max_bin=256, max_cat_to_onehot=4,\n",
       "              max_delta_step=0, max_depth=6, max_leaves=0, min_child_weight=1,\n",
       "              missing=nan, monotone_constraints='()', n_estimators=100,\n",
       "              n_jobs=-1, num_parallel_tree=1, predictor='auto', random_state=0,\n",
       "              reg_alpha=0, reg_lambda=1, ...)"
      ]
     },
     "execution_count": 29,
     "metadata": {},
     "output_type": "execute_result"
    }
   ],
   "source": [
    "xgb.fit(X_train, y_train)"
   ]
  },
  {
   "cell_type": "code",
   "execution_count": 31,
   "id": "810aced0-afe3-4bd2-8258-6e61dc59e4b8",
   "metadata": {},
   "outputs": [],
   "source": [
    "xgb_pred = xgb.predict(X_test)\n",
    "xgb_scores = xgb.predict_proba(X_test)"
   ]
  },
  {
   "cell_type": "code",
   "execution_count": 33,
   "id": "fb9f09aa-12ff-443c-9fb3-6145b4ce8334",
   "metadata": {},
   "outputs": [
    {
     "data": {
      "image/png": "[encoded data removed]",
      "text/plain": [
       "<Figure size 432x288 with 1 Axes>"
      ]
     },
     "metadata": {
      "needs_background": "light"
     },
     "output_type": "display_data"
    }
   ],
   "source": [
    "fpr, tpr, threshold = roc_curve(y_test, xgb_scores[:, 1])\n",
    "roc_auc = auc(fpr, tpr)\n",
    "\n",
    "# plt.title('Receiver Operating Characteristic')\n",
    "plt.plot(fpr, tpr, 'b', label = 'AUC = %0.4f' % roc_auc)\n",
    "plt.legend(loc = 'lower right')\n",
    "plt.plot([0, 1], [0, 1],'r--')\n",
    "plt.xlim([0, 1])\n",
    "plt.ylim([0, 1])\n",
    "plt.ylabel('True Positive Rate')\n",
    "plt.xlabel('False Positive Rate')\n",
    "plt.title('ROC Curve of kNN')\n",
    "plt.show()"
   ]
  },
  {
   "cell_type": "code",
   "execution_count": 32,
   "id": "6a40c6ea-390b-466e-bac2-12699b05ce2e",
   "metadata": {},
   "outputs": [
    {
     "name": "stdout",
     "output_type": "stream",
     "text": [
      "              precision    recall  f1-score   support\n",
      "\n",
      "           0       0.98      0.97      0.97      7074\n",
      "           1       0.95      0.97      0.96      4385\n",
      "\n",
      "    accuracy                           0.97     11459\n",
      "   macro avg       0.96      0.97      0.97     11459\n",
      "weighted avg       0.97      0.97      0.97     11459\n",
      "\n"
     ]
    }
   ],
   "source": [
    "print(classification_report(y_test, xgb_pred))"
   ]
  }
 ],
 "metadata": {
  "kernelspec": {
   "display_name": "Python 3 (ipykernel)",
   "language": "python",
   "name": "python3"
  },
  "language_info": {
   "codemirror_mode": {
    "name": "ipython",
    "version": 3
   },
   "file_extension": ".py",
   "mimetype": "text/x-python",
   "name": "python",
   "nbconvert_exporter": "python",
   "pygments_lexer": "ipython3",
   "version": "3.9.6"
  }
 },
 "nbformat": 4,
 "nbformat_minor": 5
}

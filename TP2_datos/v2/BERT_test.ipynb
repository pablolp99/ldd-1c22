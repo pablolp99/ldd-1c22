{
 "cells": [
  {
   "cell_type": "code",
   "execution_count": 1,
   "id": "a805cadb-b728-4b01-9a93-291345ab7ba9",
   "metadata": {},
   "outputs": [],
   "source": [
    "import pandas as pd"
   ]
  },
  {
   "cell_type": "code",
   "execution_count": 2,
   "id": "17c19bd3-40b5-4601-af93-d81d3f98c134",
   "metadata": {},
   "outputs": [],
   "source": [
    "df = pd.read_csv(\"../archive/US_Accidents_Dec21_updated.csv\")\n",
    "\n",
    "tt = pd.read_csv(\"../test4alumnxs.csv\")"
   ]
  },
  {
   "cell_type": "code",
   "execution_count": 13,
   "id": "f5fde93c-fe34-444a-9533-e4d247130125",
   "metadata": {},
   "outputs": [],
   "source": [
    "df_t = df[[\n",
    "    'Severity',\n",
    "    \"Start_Time\",\n",
    "    \"End_Time\",\n",
    "    \"Start_Lat\",\n",
    "    \"Start_Lng\",\n",
    "    \"End_Lat\",\n",
    "    \"End_Lng\",\n",
    "    \"Distance(mi)\",\n",
    "    \"Description\",\n",
    "]]\n",
    "# df_t['Description'] = df_t['Description'].astype(str)\n",
    "\n",
    "tt_t = tt[[\n",
    "    \"Start_Time\",\n",
    "    \"End_Time\",\n",
    "    \"Start_Lat\",\n",
    "    \"Start_Lng\",\n",
    "    \"End_Lat\",\n",
    "    \"End_Lng\",\n",
    "    \"Distance(mi)\",\n",
    "    \"Description\",\n",
    "]]\n",
    "# tt_t['Description'] = tt_t['Description'].astype(str)"
   ]
  },
  {
   "cell_type": "code",
   "execution_count": 14,
   "id": "512c3458-f401-4724-90b8-cdfbbff055f8",
   "metadata": {},
   "outputs": [
    {
     "name": "stdout",
     "output_type": "stream",
     "text": [
      "<class 'pandas.core.frame.DataFrame'>\n",
      "RangeIndex: 2845342 entries, 0 to 2845341\n",
      "Data columns (total 9 columns):\n",
      " #   Column        Dtype  \n",
      "---  ------        -----  \n",
      " 0   Severity      int64  \n",
      " 1   Start_Time    object \n",
      " 2   End_Time      object \n",
      " 3   Start_Lat     float64\n",
      " 4   Start_Lng     float64\n",
      " 5   End_Lat       float64\n",
      " 6   End_Lng       float64\n",
      " 7   Distance(mi)  float64\n",
      " 8   Description   object \n",
      "dtypes: float64(5), int64(1), object(3)\n",
      "memory usage: 195.4+ MB\n"
     ]
    }
   ],
   "source": [
    "df_t.info()"
   ]
  },
  {
   "cell_type": "code",
   "execution_count": 29,
   "id": "151aed96-50ed-48dd-aa1e-6c8d2645034c",
   "metadata": {},
   "outputs": [],
   "source": [
    "tt_desc = tt_t.Description\n",
    "tt_st = tt_t.Start_Time\n",
    "tt_et = tt_t.End_Time\n",
    "tt_sl = tt_t.Start_Lat\n",
    "tt_sg = tt_t.Start_Lng\n",
    "tt_el = tt_t.End_Lat\n",
    "tt_eg = tt_t.End_Lng"
   ]
  }
 ],
 "metadata": {
  "kernelspec": {
   "display_name": "Python 3 (ipykernel)",
   "language": "python",
   "name": "python3"
  },
  "language_info": {
   "codemirror_mode": {
    "name": "ipython",
    "version": 3
   },
   "file_extension": ".py",
   "mimetype": "text/x-python",
   "name": "python",
   "nbconvert_exporter": "python",
   "pygments_lexer": "ipython3",
   "version": "3.9.6"
  }
 },
 "nbformat": 4,
 "nbformat_minor": 5
}
